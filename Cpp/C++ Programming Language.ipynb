{
 "cells": [
  {
   "cell_type": "markdown",
   "id": "834c42fe",
   "metadata": {},
   "source": [
    "# Chapter 2: The Basics"
   ]
  },
  {
   "cell_type": "code",
   "execution_count": 16,
   "id": "8acd3882",
   "metadata": {},
   "outputs": [
    {
     "name": "stdout",
     "output_type": "stream",
     "text": [
      "1 1 1.2\n"
     ]
    }
   ],
   "source": [
    "int i1 = 1;\n",
    "int i2{1};\n",
    "auto i3{1.2};\n",
    "\n",
    "cout << i1 << ' ' << i2 << ' ' << i3 << endl;"
   ]
  },
  {
   "cell_type": "code",
   "execution_count": 30,
   "id": "2c277feb",
   "metadata": {},
   "outputs": [],
   "source": [
    "double sum(const vector<double>&v) { \n",
    "    double s = 0;\n",
    "    for (double x : v) {\n",
    "        s += x;\n",
    "    }\n",
    "    return s;\n",
    "}"
   ]
  },
  {
   "cell_type": "code",
   "execution_count": 32,
   "id": "e27d3d76",
   "metadata": {},
   "outputs": [],
   "source": [
    "constexpr double square(double x) { return x * x; }"
   ]
  },
  {
   "cell_type": "markdown",
   "id": "529cefbf",
   "metadata": {},
   "source": [
    " `const` : value can not be changed.\n",
    " \n",
    "\n",
    " `constexpr`: to be valued at compile time."
   ]
  },
  {
   "cell_type": "code",
   "execution_count": 35,
   "id": "78ed9739",
   "metadata": {},
   "outputs": [
    {
     "name": "stdout",
     "output_type": "stream",
     "text": [
      "9.1\n"
     ]
    }
   ],
   "source": [
    "const int a = 1;\n",
    "int b = 2;\n",
    "constexpr double c1 = 1.4 * a;\n",
    "// constexpr double c2 = 1.4 * b; // error\n",
    "\n",
    "vector<double> v {1.2, 3.4, 4.5};\n",
    "const double s1 = sum(v);\n",
    "cout << s1 << endl;\n",
    "\n",
    "// constexpr double s2 = sum(v); // error\n",
    "constexpr double s3 = square(a);\n"
   ]
  },
  {
   "cell_type": "markdown",
   "id": "ed3ceb76",
   "metadata": {},
   "source": [
    "`*`:\n",
    "* in declaration: pointer.\n",
    "* otherwise: contents of.\n",
    "\n",
    "`&`: \n",
    "* in declaration: reference to.\n",
    "* otherwise: address of.\n",
    "\n",
    "`.`: access `struct` members through a name or reference.\n",
    "\n",
    "`->`: access `sturct` members through a pointer.\n"
   ]
  },
  {
   "cell_type": "code",
   "execution_count": 38,
   "id": "f7b31e34",
   "metadata": {},
   "outputs": [],
   "source": [
    "enum class Color { red, blue, green };\n",
    "\n",
    "Color col = Color::red;\n"
   ]
  },
  {
   "cell_type": "code",
   "execution_count": null,
   "id": "ac22d922",
   "metadata": {},
   "outputs": [],
   "source": [
    "namespace MyCode {\n",
    "    class complex { };\n",
    "    complex sqrt(complex);\n",
    "    int main();\n",
    "}"
   ]
  },
  {
   "cell_type": "code",
   "execution_count": null,
   "id": "98f553fa",
   "metadata": {},
   "outputs": [],
   "source": [
    "static_assert(4 <= sizeof(int), \"intergers are too small\"); // check at compile time"
   ]
  },
  {
   "cell_type": "markdown",
   "id": "304f3d1e",
   "metadata": {},
   "source": [
    "# Chapter 3: Abstraction Mechanisms"
   ]
  },
  {
   "cell_type": "markdown",
   "id": "9f4893bf",
   "metadata": {},
   "source": [
    "`std::initializer_list`: define the initializer-list constructor"
   ]
  },
  {
   "cell_type": "code",
   "execution_count": null,
   "id": "eb451f7a",
   "metadata": {},
   "outputs": [],
   "source": [
    "Vector::Vector<std:initializer_list<double> lst):elem{new double[lst.size()], sz{lst.size()}} {\n",
    "    copy(lst.begin(), lst.end(), elem);\n",
    "}"
   ]
  },
  {
   "cell_type": "code",
   "execution_count": 41,
   "id": "607509c2",
   "metadata": {},
   "outputs": [],
   "source": [
    "class Point\n",
    "{\n",
    "    private:\n",
    "        int x, y;\n",
    "    public:\n",
    "        Point() : x(0), y(0) {}\n",
    "        Point(int x, int y) : x(x), y(y) {}\n",
    "}"
   ]
  },
  {
   "cell_type": "code",
   "execution_count": 42,
   "id": "50ec65a5",
   "metadata": {},
   "outputs": [],
   "source": [
    "class Shape {\n",
    "public:\n",
    "    virtual Point center() const=0;\n",
    "    virtual void move(Point to)=0;\n",
    "    \n",
    "    virtual void draw() const=0;\n",
    "    virtual void rotate(int angle)=0;\n",
    "    \n",
    "    virtual ~Shape(){}\n",
    "    \n",
    "};"
   ]
  },
  {
   "cell_type": "code",
   "execution_count": 43,
   "id": "d0c0f16c",
   "metadata": {},
   "outputs": [],
   "source": [
    "void rotate_all(vector<Shape*>& v, int angle) \n",
    "{\n",
    "    for (auto p : v)\n",
    "        p->rotate(angle);\n",
    "}"
   ]
  },
  {
   "cell_type": "code",
   "execution_count": 44,
   "id": "99cc4236",
   "metadata": {},
   "outputs": [],
   "source": [
    "class Circle : public Shape {\n",
    "public:\n",
    "    Circle(Point p, int rr);\n",
    "    \n",
    "    Point center() const { return x; }\n",
    "    void move(Point to) { x = to; }\n",
    "    \n",
    "    void draw() const;\n",
    "    void rotate(int) {}\n",
    "    \n",
    "private:\n",
    "    Point x;\n",
    "    int r;\n",
    "};"
   ]
  },
  {
   "cell_type": "code",
   "execution_count": 45,
   "id": "11a9d369",
   "metadata": {},
   "outputs": [],
   "source": [
    "class Smiley : public Circle {\n",
    "public:\n",
    "    Smiley(Point p, int r): Circle{p, r}, mouth{ nullptr } {}\n",
    "    \n",
    "    ~Smiley()\n",
    "    {\n",
    "        delete mouth;\n",
    "        for (auto p : eyes) delete p;\n",
    "    }\n",
    "    \n",
    "    void move(Point to);\n",
    "    \n",
    "    void draw() const;\n",
    "    void rotate(int);\n",
    "    \n",
    "    void add_eye(Shape* s) { eyes.push_back(s); }\n",
    "    void set_mouth(Shape* s);\n",
    "    virtual void wink(int i);\n",
    "    \n",
    "private:\n",
    "    vector<Shape*> eyes;\n",
    "    Shape* mouth;\n",
    "}\n",
    "\n",
    "void Smiley::draw()\n",
    "{\n",
    "    Circle::draw();\n",
    "    for (auto p : eyes)\n",
    "        p->draw();\n",
    "    mouth->draw();\n",
    "}\n"
   ]
  },
  {
   "cell_type": "markdown",
   "id": "fe17d09a",
   "metadata": {},
   "source": [
    "* copy constructor: called when class was created.\n",
    "* copy assignment：called when assigned. "
   ]
  },
  {
   "cell_type": "code",
   "execution_count": 56,
   "id": "01619d8a",
   "metadata": {},
   "outputs": [],
   "source": [
    "class A {\n",
    " public:\n",
    "  A() {\n",
    "    std::cout << \"A() called!\\n\";\n",
    "  }\n",
    "  A(const A& a) {\n",
    "    std::cout << \"A(const A& a) called!\\n\";\n",
    "  }\n",
    "  A& operator=(const A& a) {\n",
    "    std::cout << \"operator=(const A& a)!\\n\";\n",
    "    return *this;\n",
    "  }\n",
    "};\n"
   ]
  },
  {
   "cell_type": "code",
   "execution_count": 57,
   "id": "8d44507d",
   "metadata": {},
   "outputs": [
    {
     "name": "stdout",
     "output_type": "stream",
     "text": [
      "A() called!\n",
      "A(const A& a) called!\n",
      "A(const A& a) called!\n",
      "operator=(const A& a)!\n"
     ]
    }
   ],
   "source": [
    " A a1;\n",
    " A a2 = a1;\n",
    " A a3(a1);\n",
    " a3 = a2;"
   ]
  }
 ],
 "metadata": {
  "kernelspec": {
   "display_name": "C++11 [conda env:xeus]",
   "language": "C++11",
   "name": "conda-env-xeus-xcpp11"
  },
  "language_info": {
   "codemirror_mode": "text/x-c++src",
   "file_extension": ".cpp",
   "mimetype": "text/x-c++src",
   "name": "c++",
   "version": "11"
  }
 },
 "nbformat": 4,
 "nbformat_minor": 5
}
