{
 "cells": [
  {
   "cell_type": "markdown",
   "id": "2860179e",
   "metadata": {},
   "source": [
    "# Chapter 2: The Basics"
   ]
  },
  {
   "cell_type": "code",
   "execution_count": null,
   "id": "8acd3882",
   "metadata": {},
   "outputs": [],
   "source": [
    "int i1 = 1;\n",
    "int i2{1};\n",
    "auto i3{1.2};\n",
    "\n",
    "cout << i1 << ' ' << i2 << ' ' << i3 << endl;"
   ]
  },
  {
   "cell_type": "code",
   "execution_count": null,
   "id": "551fbf25",
   "metadata": {},
   "outputs": [],
   "source": [
    "double sum(const vector<double>&v) { \n",
    "    double s = 0;\n",
    "    for (double x : v) {\n",
    "        s += x;\n",
    "    }\n",
    "    return s;\n",
    "}"
   ]
  },
  {
   "cell_type": "code",
   "execution_count": null,
   "id": "2922296c",
   "metadata": {},
   "outputs": [],
   "source": [
    "constexpr double square(double x) { return x * x; }"
   ]
  },
  {
   "cell_type": "markdown",
   "id": "83c07690",
   "metadata": {},
   "source": [
    " `const` : value can not be changed.\n",
    " \n",
    "\n",
    " `constexpr`: to be valued at compile time."
   ]
  },
  {
   "cell_type": "code",
   "execution_count": null,
   "id": "78ed9739",
   "metadata": {},
   "outputs": [],
   "source": [
    "const int a = 1;\n",
    "int b = 2;\n",
    "constexpr double c1 = 1.4 * a;\n",
    "// constexpr double c2 = 1.4 * b; // error\n",
    "\n",
    "vector<double> v {1.2, 3.4, 4.5};\n",
    "const double s1 = sum(v);\n",
    "cout << s1 << endl;\n",
    "\n",
    "// constexpr double s2 = sum(v); // error\n",
    "constexpr double s3 = square(a);\n"
   ]
  },
  {
   "cell_type": "markdown",
   "id": "b5485093",
   "metadata": {},
   "source": [
    "`*`:\n",
    "* in declaration: pointer.\n",
    "* otherwise: contents of.\n",
    "\n",
    "`&`: \n",
    "* in declaration: reference to.\n",
    "* otherwise: address of.\n",
    "\n",
    "`.`: access `struct` members through a name or reference.\n",
    "\n",
    "`->`: access `sturct` members through a pointer.\n"
   ]
  },
  {
   "cell_type": "code",
   "execution_count": null,
   "id": "20049b3e",
   "metadata": {},
   "outputs": [],
   "source": [
    "enum class Color { red, blue, green };\n",
    "\n",
    "Color col = Color::red;\n"
   ]
  },
  {
   "cell_type": "code",
   "execution_count": null,
   "id": "2e559512",
   "metadata": {},
   "outputs": [],
   "source": [
    "namespace MyCode {\n",
    "    class complex { };\n",
    "    complex sqrt(complex);\n",
    "    int main();\n",
    "}"
   ]
  },
  {
   "cell_type": "code",
   "execution_count": null,
   "id": "d80a5c69",
   "metadata": {},
   "outputs": [],
   "source": [
    "static_assert(4 <= sizeof(int), \"intergers are too small\"); // check at compile time"
   ]
  },
  {
   "cell_type": "markdown",
   "id": "87359c5d",
   "metadata": {},
   "source": [
    "# Chapter 3: Abstraction Mechanisms"
   ]
  },
  {
   "cell_type": "markdown",
   "id": "7d8f69f7",
   "metadata": {},
   "source": [
    "`std::initializer_list`: define the initializer-list constructor"
   ]
  },
  {
   "cell_type": "code",
   "execution_count": null,
   "id": "dfb89816",
   "metadata": {},
   "outputs": [],
   "source": [
    "Vector::Vector<std:initializer_list<double> lst):elem{new double[lst.size()], sz{lst.size()}} {\n",
    "    copy(lst.begin(), lst.end(), elem);\n",
    "}"
   ]
  },
  {
   "cell_type": "code",
   "execution_count": null,
   "id": "a8ba46e9",
   "metadata": {},
   "outputs": [],
   "source": [
    "class Point\n",
    "{\n",
    "    private:\n",
    "        int x, y;\n",
    "    public:\n",
    "        Point() : x(0), y(0) {}\n",
    "        Point(int x, int y) : x(x), y(y) {}\n",
    "}"
   ]
  },
  {
   "cell_type": "code",
   "execution_count": null,
   "id": "2cc99ca9",
   "metadata": {},
   "outputs": [],
   "source": [
    "class Shape {\n",
    "public:\n",
    "    virtual Point center() const=0;\n",
    "    virtual void move(Point to)=0;\n",
    "    \n",
    "    virtual void draw() const=0;\n",
    "    virtual void rotate(int angle)=0;\n",
    "    \n",
    "    virtual ~Shape(){}\n",
    "    \n",
    "};"
   ]
  },
  {
   "cell_type": "code",
   "execution_count": null,
   "id": "43d271fc",
   "metadata": {},
   "outputs": [],
   "source": [
    "void rotate_all(vector<Shape*>& v, int angle) \n",
    "{\n",
    "    for (auto p : v)\n",
    "        p->rotate(angle);\n",
    "}"
   ]
  },
  {
   "cell_type": "code",
   "execution_count": null,
   "id": "b2943a69",
   "metadata": {},
   "outputs": [],
   "source": [
    "class Circle : public Shape {\n",
    "public:\n",
    "    Circle(Point p, int rr);\n",
    "    \n",
    "    Point center() const { return x; }\n",
    "    void move(Point to) { x = to; }\n",
    "    \n",
    "    void draw() const;\n",
    "    void rotate(int) {}\n",
    "    \n",
    "private:\n",
    "    Point x;\n",
    "    int r;\n",
    "};"
   ]
  },
  {
   "cell_type": "code",
   "execution_count": null,
   "id": "ddcabbf1",
   "metadata": {},
   "outputs": [],
   "source": [
    "class Smiley : public Circle {\n",
    "public:\n",
    "    Smiley(Point p, int r): Circle{p, r}, mouth{ nullptr } {}\n",
    "    \n",
    "    ~Smiley()\n",
    "    {\n",
    "        delete mouth;\n",
    "        for (auto p : eyes) delete p;\n",
    "    }\n",
    "    \n",
    "    void move(Point to);\n",
    "    \n",
    "    void draw() const;\n",
    "    void rotate(int);\n",
    "    \n",
    "    void add_eye(Shape* s) { eyes.push_back(s); }\n",
    "    void set_mouth(Shape* s);\n",
    "    virtual void wink(int i);\n",
    "    \n",
    "private:\n",
    "    vector<Shape*> eyes;\n",
    "    Shape* mouth;\n",
    "}\n",
    "\n",
    "void Smiley::draw()\n",
    "{\n",
    "    Circle::draw();\n",
    "    for (auto p : eyes)\n",
    "        p->draw();\n",
    "    mouth->draw();\n",
    "}\n"
   ]
  },
  {
   "cell_type": "markdown",
   "id": "29154edc",
   "metadata": {},
   "source": [
    "* copy constructor: called when class was created.\n",
    "* copy assignment：called when assigned. "
   ]
  },
  {
   "cell_type": "code",
   "execution_count": null,
   "id": "263187af",
   "metadata": {},
   "outputs": [],
   "source": [
    "class A {\n",
    " public:\n",
    "  A() {\n",
    "    std::cout << \"A() called!\\n\";\n",
    "  }\n",
    "  A(const A& a) {\n",
    "    std::cout << \"A(const A& a) called!\\n\";\n",
    "  }\n",
    "  A& operator=(const A& a) {\n",
    "    std::cout << \"operator=(const A& a)!\\n\";\n",
    "    return *this;\n",
    "  }\n",
    "};\n"
   ]
  },
  {
   "cell_type": "code",
   "execution_count": null,
   "id": "caf7e5bb",
   "metadata": {},
   "outputs": [],
   "source": []
  },
  {
   "cell_type": "code",
   "execution_count": null,
   "id": "1ba856a5",
   "metadata": {},
   "outputs": [],
   "source": [
    " A a1;\n",
    " A a2 = a1;\n",
    " A a3(a1);\n",
    " a3 = a2;"
   ]
  },
  {
   "cell_type": "code",
   "execution_count": null,
   "id": "3b5945fb",
   "metadata": {},
   "outputs": [],
   "source": [
    "// function objects\n",
    "template<typename T>\n",
    "class LessTan {\n",
    "    const T val;\n",
    "public:\n",
    "    LessTan(const T& v):val(v) {}\n",
    "    bool operator()(const T& x) const { return x < val; }\n",
    "};"
   ]
  },
  {
   "cell_type": "code",
   "execution_count": null,
   "id": "64532e08",
   "metadata": {},
   "outputs": [],
   "source": [
    "LessTan<int> lti{42};\n",
    "cout << lti(10);"
   ]
  },
  {
   "cell_type": "markdown",
   "id": "5bf7ae89",
   "metadata": {},
   "source": [
    "# Chapter 4: Containers and Algorithms"
   ]
  },
  {
   "cell_type": "code",
   "execution_count": null,
   "id": "315107a5",
   "metadata": {},
   "outputs": [],
   "source": [
    "// I/O\n",
    "struct Entry {\n",
    "    string name;\n",
    "    int number;\n",
    "};\n"
   ]
  },
  {
   "cell_type": "code",
   "execution_count": null,
   "id": "8726b72f",
   "metadata": {},
   "outputs": [],
   "source": [
    "int sum(){ return 1;}"
   ]
  },
  {
   "cell_type": "code",
   "execution_count": null,
   "id": "845f280f",
   "metadata": {},
   "outputs": [],
   "source": [
    "ostream& operator<<(ostream& os, const Entry& e) \n",
    "{\n",
    "    return os << e.name << ' ' << e.number << endl;\n",
    "}"
   ]
  },
  {
   "cell_type": "code",
   "execution_count": 2,
   "id": "ab6d519a",
   "metadata": {},
   "outputs": [],
   "source": [
    "#include <iostream>\n",
    "#include <algorithm>\n",
    "#include <vector>\n",
    "using namespace std;"
   ]
  },
  {
   "cell_type": "markdown",
   "id": "63993ce0",
   "metadata": {},
   "source": [
    "* `unique_copy`"
   ]
  },
  {
   "cell_type": "code",
   "execution_count": null,
   "id": "a1676fc3",
   "metadata": {},
   "outputs": [],
   "source": [
    "// back_insert, unique_copy\n",
    "vector<int>a{1, 2, 3, 2, 3, 4, 5};\n",
    "sort(a.begin(), a.end());\n",
    "vector<int>b(10);\n",
    "unique_copy(a.begin(), a.end(), b.begin());\n"
   ]
  },
  {
   "cell_type": "markdown",
   "id": "5b36a18d",
   "metadata": {},
   "source": [
    "* `find`"
   ]
  },
  {
   "cell_type": "code",
   "execution_count": 3,
   "id": "88c6ae89",
   "metadata": {},
   "outputs": [
    {
     "name": "stdout",
     "output_type": "stream",
     "text": [
      "1\n"
     ]
    }
   ],
   "source": [
    "vector<int>a{1, 2, 3, 4, 5};\n",
    "auto p = find(a.begin(), a.end(), 2);\n",
    "cout << p - a.begin() << endl;"
   ]
  },
  {
   "cell_type": "code",
   "execution_count": 5,
   "id": "1771775a",
   "metadata": {},
   "outputs": [],
   "source": [
    "template<typename C, typename V>\n",
    "vector<typename C::iterator> find_all(C& c, V v) {\n",
    "    vector<typename C::iterator> res;\n",
    "    for (auto p = c.begin(); p != c.end(); ++p) {\n",
    "        if (*p == v)\n",
    "            res.push_back(p);\n",
    "    }\n",
    "    return res;\n",
    "}\n",
    "auto ps = find_all(a, 2);"
   ]
  },
  {
   "cell_type": "code",
   "execution_count": 8,
   "id": "f74802ec",
   "metadata": {},
   "outputs": [],
   "source": [
    "template<typename T>\n",
    "using Iterator = typename T::iterator;\n",
    "\n",
    "template<typename C, typename V>\n",
    "vector<Iterator<C>> find_all(C& c, V v) {\n",
    "    vector<Iterator<C>> res;\n",
    "    for (auto p = c.begin(); p != c.end(); ++p) {\n",
    "        if (*p == v)\n",
    "            res.push_back(p);\n",
    "    }\n",
    "    return res;\n",
    "}\n",
    "auto ps = find_all(a, 2);"
   ]
  },
  {
   "cell_type": "markdown",
   "id": "c4af27f4",
   "metadata": {},
   "source": [
    "* `unique_ptr`: to represent unique ownership\n",
    "* `shared_ptr`: to represent shared ownership "
   ]
  },
  {
   "cell_type": "code",
   "execution_count": null,
   "id": "c8f7f308",
   "metadata": {},
   "outputs": [],
   "source": []
  }
 ],
 "metadata": {
  "kernelspec": {
   "display_name": "C++11 [conda env:xeus]",
   "language": "C++11",
   "name": "conda-env-xeus-xcpp11"
  },
  "language_info": {
   "codemirror_mode": "text/x-c++src",
   "file_extension": ".cpp",
   "mimetype": "text/x-c++src",
   "name": "c++",
   "version": "11"
  }
 },
 "nbformat": 4,
 "nbformat_minor": 5
}
