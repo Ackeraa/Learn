{
 "cells": [
  {
   "cell_type": "markdown",
   "id": "ca4e4c99",
   "metadata": {},
   "source": [
    "# Part I: Introductory Material"
   ]
  },
  {
   "cell_type": "markdown",
   "id": "ac13c155",
   "metadata": {},
   "source": [
    "## Chapter 2: The Basics"
   ]
  },
  {
   "cell_type": "code",
   "execution_count": null,
   "id": "8acd3882",
   "metadata": {},
   "outputs": [],
   "source": [
    "int i1 = 1;\n",
    "int i2{1};\n",
    "auto i3{1.2};\n",
    "\n",
    "cout << i1 << ' ' << i2 << ' ' << i3 << endl;"
   ]
  },
  {
   "cell_type": "code",
   "execution_count": null,
   "id": "431d03bb",
   "metadata": {},
   "outputs": [],
   "source": [
    "double sum(const vector<double>&v) { \n",
    "    double s = 0;\n",
    "    for (double x : v) {\n",
    "        s += x;\n",
    "    }\n",
    "    return s;\n",
    "}"
   ]
  },
  {
   "cell_type": "code",
   "execution_count": null,
   "id": "dbfe4e86",
   "metadata": {},
   "outputs": [],
   "source": [
    "constexpr double square(double x) { return x * x; }"
   ]
  },
  {
   "cell_type": "markdown",
   "id": "8c2b7868",
   "metadata": {},
   "source": [
    " `const` : value can not be changed.\n",
    " \n",
    "\n",
    " `constexpr`: to be valued at compile time."
   ]
  },
  {
   "cell_type": "code",
   "execution_count": null,
   "id": "78ed9739",
   "metadata": {},
   "outputs": [],
   "source": [
    "const int a = 1;\n",
    "int b = 2;\n",
    "constexpr double c1 = 1.4 * a;\n",
    "// constexpr double c2 = 1.4 * b; // error\n",
    "\n",
    "vector<double> v {1.2, 3.4, 4.5};\n",
    "const double s1 = sum(v);\n",
    "cout << s1 << endl;\n",
    "\n",
    "// constexpr double s2 = sum(v); // error\n",
    "constexpr double s3 = square(a);\n"
   ]
  },
  {
   "cell_type": "markdown",
   "id": "f8b87d98",
   "metadata": {},
   "source": [
    "`*`:\n",
    "* in declaration: pointer.\n",
    "* otherwise: contents of.\n",
    "\n",
    "`&`: \n",
    "* in declaration: reference to.\n",
    "* otherwise: address of.\n",
    "\n",
    "`.`: access `struct` members through a name or reference.\n",
    "\n",
    "`->`: access `sturct` members through a pointer.\n"
   ]
  },
  {
   "cell_type": "code",
   "execution_count": null,
   "id": "c40017b2",
   "metadata": {},
   "outputs": [],
   "source": [
    "enum class Color { red, blue, green };\n",
    "\n",
    "Color col = Color::red;\n"
   ]
  },
  {
   "cell_type": "code",
   "execution_count": null,
   "id": "f70fee66",
   "metadata": {},
   "outputs": [],
   "source": [
    "namespace MyCode {\n",
    "    class complex { };\n",
    "    complex sqrt(complex);\n",
    "    int main();\n",
    "}"
   ]
  },
  {
   "cell_type": "code",
   "execution_count": null,
   "id": "ac280416",
   "metadata": {},
   "outputs": [],
   "source": [
    "static_assert(4 <= sizeof(int), \"intergers are too small\"); // check at compile time"
   ]
  },
  {
   "cell_type": "markdown",
   "id": "c436e38e",
   "metadata": {},
   "source": [
    "## Chapter 3: Abstraction Mechanisms"
   ]
  },
  {
   "cell_type": "markdown",
   "id": "e7203b5f",
   "metadata": {},
   "source": [
    "`std::initializer_list`: define the initializer-list constructor"
   ]
  },
  {
   "cell_type": "code",
   "execution_count": null,
   "id": "0e03ebb5",
   "metadata": {},
   "outputs": [],
   "source": [
    "Vector::Vector<std:initializer_list<double> lst):elem{new double[lst.size()], sz{lst.size()}} {\n",
    "    copy(lst.begin(), lst.end(), elem);\n",
    "}"
   ]
  },
  {
   "cell_type": "code",
   "execution_count": null,
   "id": "56be75c3",
   "metadata": {},
   "outputs": [],
   "source": [
    "class Point\n",
    "{\n",
    "    private:\n",
    "        int x, y;\n",
    "    public:\n",
    "        Point() : x(0), y(0) {}\n",
    "        Point(int x, int y) : x(x), y(y) {}\n",
    "}"
   ]
  },
  {
   "cell_type": "code",
   "execution_count": null,
   "id": "1013a5ca",
   "metadata": {},
   "outputs": [],
   "source": [
    "class Shape {\n",
    "public:\n",
    "    virtual Point center() const=0;\n",
    "    virtual void move(Point to)=0;\n",
    "    \n",
    "    virtual void draw() const=0;\n",
    "    virtual void rotate(int angle)=0;\n",
    "    \n",
    "    virtual ~Shape(){}\n",
    "    \n",
    "};"
   ]
  },
  {
   "cell_type": "code",
   "execution_count": null,
   "id": "c6de7bb9",
   "metadata": {},
   "outputs": [],
   "source": [
    "void rotate_all(vector<Shape*>& v, int angle) \n",
    "{\n",
    "    for (auto p : v)\n",
    "        p->rotate(angle);\n",
    "}"
   ]
  },
  {
   "cell_type": "code",
   "execution_count": null,
   "id": "43436a23",
   "metadata": {},
   "outputs": [],
   "source": [
    "class Circle : public Shape {\n",
    "public:\n",
    "    Circle(Point p, int rr);\n",
    "    \n",
    "    Point center() const { return x; }\n",
    "    void move(Point to) { x = to; }\n",
    "    \n",
    "    void draw() const;\n",
    "    void rotate(int) {}\n",
    "    \n",
    "private:\n",
    "    Point x;\n",
    "    int r;\n",
    "};"
   ]
  },
  {
   "cell_type": "code",
   "execution_count": null,
   "id": "458b13e6",
   "metadata": {},
   "outputs": [],
   "source": [
    "class Smiley : public Circle {\n",
    "public:\n",
    "    Smiley(Point p, int r): Circle{p, r}, mouth{ nullptr } {}\n",
    "    \n",
    "    ~Smiley()\n",
    "    {\n",
    "        delete mouth;\n",
    "        for (auto p : eyes) delete p;\n",
    "    }\n",
    "    \n",
    "    void move(Point to);\n",
    "    \n",
    "    void draw() const;\n",
    "    void rotate(int);\n",
    "    \n",
    "    void add_eye(Shape* s) { eyes.push_back(s); }\n",
    "    void set_mouth(Shape* s);\n",
    "    virtual void wink(int i);\n",
    "    \n",
    "private:\n",
    "    vector<Shape*> eyes;\n",
    "    Shape* mouth;\n",
    "}\n",
    "\n",
    "void Smiley::draw()\n",
    "{\n",
    "    Circle::draw();\n",
    "    for (auto p : eyes)\n",
    "        p->draw();\n",
    "    mouth->draw();\n",
    "}\n"
   ]
  },
  {
   "cell_type": "markdown",
   "id": "5b90177f",
   "metadata": {},
   "source": [
    "* copy constructor: called when class was created.\n",
    "* copy assignment：called when assigned. "
   ]
  },
  {
   "cell_type": "code",
   "execution_count": null,
   "id": "5d5ea6ab",
   "metadata": {},
   "outputs": [],
   "source": [
    "class A {\n",
    " public:\n",
    "  A() {\n",
    "    std::cout << \"A() called!\\n\";\n",
    "  }\n",
    "  A(const A& a) {\n",
    "    std::cout << \"A(const A& a) called!\\n\";\n",
    "  }\n",
    "  A& operator=(const A& a) {\n",
    "    std::cout << \"operator=(const A& a)!\\n\";\n",
    "    return *this;\n",
    "  }\n",
    "};\n"
   ]
  },
  {
   "cell_type": "code",
   "execution_count": null,
   "id": "97af1d16",
   "metadata": {},
   "outputs": [],
   "source": []
  },
  {
   "cell_type": "code",
   "execution_count": null,
   "id": "55670f8b",
   "metadata": {},
   "outputs": [],
   "source": [
    " A a1;\n",
    " A a2 = a1;\n",
    " A a3(a1);\n",
    " a3 = a2;"
   ]
  },
  {
   "cell_type": "code",
   "execution_count": null,
   "id": "cdd4ee7a",
   "metadata": {},
   "outputs": [],
   "source": [
    "// function objects\n",
    "template<typename T>\n",
    "class LessTan {\n",
    "    const T val;\n",
    "public:\n",
    "    LessTan(const T& v):val(v) {}\n",
    "    bool operator()(const T& x) const { return x < val; }\n",
    "};"
   ]
  },
  {
   "cell_type": "code",
   "execution_count": null,
   "id": "68f1b2f5",
   "metadata": {},
   "outputs": [],
   "source": [
    "LessTan<int> lti{42};\n",
    "cout << lti(10);"
   ]
  },
  {
   "cell_type": "markdown",
   "id": "59e5a007",
   "metadata": {},
   "source": [
    "##  Chapter 4: Containers and Algorithms"
   ]
  },
  {
   "cell_type": "code",
   "execution_count": null,
   "id": "cd18849f",
   "metadata": {},
   "outputs": [],
   "source": [
    "// I/O\n",
    "struct Entry {\n",
    "    string name;\n",
    "    int number;\n",
    "};\n"
   ]
  },
  {
   "cell_type": "code",
   "execution_count": null,
   "id": "afe0d37a",
   "metadata": {},
   "outputs": [],
   "source": [
    "int sum(){ return 1;}"
   ]
  },
  {
   "cell_type": "code",
   "execution_count": null,
   "id": "3e377d53",
   "metadata": {},
   "outputs": [],
   "source": [
    "ostream& operator<<(ostream& os, const Entry& e) \n",
    "{\n",
    "    return os << e.name << ' ' << e.number << endl;\n",
    "}"
   ]
  },
  {
   "cell_type": "code",
   "execution_count": 2,
   "id": "4b10b7ea",
   "metadata": {},
   "outputs": [],
   "source": [
    "#include <iostream>\n",
    "#include <algorithm>\n",
    "#include <vector>\n",
    "using namespace std;"
   ]
  },
  {
   "cell_type": "markdown",
   "id": "ce283041",
   "metadata": {},
   "source": [
    "* `unique_copy`"
   ]
  },
  {
   "cell_type": "code",
   "execution_count": null,
   "id": "a4e858d5",
   "metadata": {},
   "outputs": [],
   "source": [
    "// back_insert, unique_copy\n",
    "vector<int>a{1, 2, 3, 2, 3, 4, 5};\n",
    "sort(a.begin(), a.end());\n",
    "vector<int>b(10);\n",
    "unique_copy(a.begin(), a.end(), b.begin());\n"
   ]
  },
  {
   "cell_type": "markdown",
   "id": "2d5c9659",
   "metadata": {},
   "source": [
    "* `find`"
   ]
  },
  {
   "cell_type": "code",
   "execution_count": 3,
   "id": "d346a065",
   "metadata": {},
   "outputs": [
    {
     "name": "stdout",
     "output_type": "stream",
     "text": [
      "1\n"
     ]
    }
   ],
   "source": [
    "vector<int>a{1, 2, 3, 4, 5};\n",
    "auto p = find(a.begin(), a.end(), 2);\n",
    "cout << p - a.begin() << endl;"
   ]
  },
  {
   "cell_type": "code",
   "execution_count": 5,
   "id": "4e0adc7e",
   "metadata": {},
   "outputs": [],
   "source": [
    "template<typename C, typename V>\n",
    "vector<typename C::iterator> find_all(C& c, V v) {\n",
    "    vector<typename C::iterator> res;\n",
    "    for (auto p = c.begin(); p != c.end(); ++p) {\n",
    "        if (*p == v)\n",
    "            res.push_back(p);\n",
    "    }\n",
    "    return res;\n",
    "}\n",
    "auto ps = find_all(a, 2);"
   ]
  },
  {
   "cell_type": "code",
   "execution_count": 8,
   "id": "1b648934",
   "metadata": {},
   "outputs": [],
   "source": [
    "template<typename T>\n",
    "using Iterator = typename T::iterator;\n",
    "\n",
    "template<typename C, typename V>\n",
    "vector<Iterator<C>> find_all(C& c, V v) {\n",
    "    vector<Iterator<C>> res;\n",
    "    for (auto p = c.begin(); p != c.end(); ++p) {\n",
    "        if (*p == v)\n",
    "            res.push_back(p);\n",
    "    }\n",
    "    return res;\n",
    "}\n",
    "auto ps = find_all(a, 2);"
   ]
  },
  {
   "cell_type": "markdown",
   "id": "930d5411",
   "metadata": {},
   "source": [
    "* `unique_ptr`: to represent unique ownership\n",
    "* `shared_ptr`: to represent shared ownership "
   ]
  },
  {
   "cell_type": "markdown",
   "id": "d324a95a",
   "metadata": {},
   "source": [
    "## Chapter 5: Concurrency and Utilities"
   ]
  },
  {
   "cell_type": "markdown",
   "id": "980a6b36",
   "metadata": {},
   "source": [
    "* `join`: wait for the thread to terminate. "
   ]
  },
  {
   "cell_type": "code",
   "execution_count": null,
   "id": "2a6927de",
   "metadata": {},
   "outputs": [],
   "source": [
    "mutex m; // controlling mutex\n",
    "int sh; // shared data\n",
    "void f()\n",
    "{\n",
    "    unique_lock<mutex> lck {m}; // acquire mutex\n",
    "    sh += 7; // manipulate shared data\n",
    "}"
   ]
  },
  {
   "cell_type": "code",
   "execution_count": null,
   "id": "f200ded1",
   "metadata": {},
   "outputs": [],
   "source": [
    "// avoid dead lock\n",
    "void f() {\n",
    "    unique_lock<mutex> lck1 {m1, defer_lock};\n",
    "    unique_lock<mutex> lck2 {m2, defer_lock};\n",
    "    unique_lock<mutex> lck3 {m3, defer_lock};\n",
    "    \n",
    "    lock(lck1, lck2, lck3);\n",
    "}"
   ]
  },
  {
   "cell_type": "code",
   "execution_count": null,
   "id": "1e96bc90",
   "metadata": {},
   "outputs": [],
   "source": [
    "class Message {\n",
    "    \n",
    "};\n",
    "queue<Message> mqueue;\n",
    "condition_variable mcond;\n",
    "mutex mmutex;\n",
    "\n",
    "void consumer() {\n",
    "    while (true) {\n",
    "        unique_lock<mutex> lck{mmutex};\n",
    "        while (mcond.wait(lck));\n",
    "        auto m = mqueue.front();\n",
    "        mqueue.pop();\n",
    "        lck.unlock();\n",
    "    }\n",
    "}\n",
    "\n",
    "void producer() {\n",
    "    while (true) {\n",
    "        Message m;\n",
    "        unique_lock<mutex> lck {mmutex};\n",
    "        mqueue.push(m);\n",
    "        mcond.notify_one();\n",
    "    }\n",
    "}"
   ]
  },
  {
   "cell_type": "markdown",
   "id": "e0265eb8",
   "metadata": {},
   "source": [
    "* `future`, `promise`: return a value from a task spawned on a separated thread \n",
    "* `packaged_task`: help launch tasks and connect up the mechanisms for returning a result\n",
    "* `async`: launch of a task in a manner very similar to calling a function"
   ]
  },
  {
   "cell_type": "code",
   "execution_count": null,
   "id": "a63e4f86",
   "metadata": {},
   "outputs": [],
   "source": [
    "void f(promise<X>& px) // a task: place the result in px\n",
    "{\n",
    "    // ...\n",
    "    try {\n",
    "        X res;\n",
    "        // ... compute a value for res ...\n",
    "        px.set_value(res);\n",
    "    }\n",
    "    catch (...) { // oops: couldn’t compute res\n",
    "        // pass the exception to the future’s thread:\n",
    "        px.set_exception(current_exception());\n",
    "    }\n",
    "}\n",
    "void g(future<X>& fx) // a task: get the result from fx\n",
    "{\n",
    "    // ...\n",
    "    try {\n",
    "        X v = fx.g et(); // if necessary, wait for the value to get computed\n",
    "        // ... use v ...\n",
    "        }\n",
    "    catch (...) { // oops: someone couldn’t compute v\n",
    "        // ... handle error ...\n",
    "    }\n",
    "}"
   ]
  },
  {
   "cell_type": "code",
   "execution_count": null,
   "id": "3f623732",
   "metadata": {},
   "outputs": [],
   "source": [
    "double accum(double∗ beg, double ∗ end, double init)\n",
    "// compute the sum of [beg:end) starting with the initial value init\n",
    "{\n",
    "    return accumulate(beg,end,init);\n",
    "}\n",
    "\n",
    "double comp2(vector<double>& v)\n",
    "{\n",
    "    using Task_type = double(double∗,double∗,double); // type of task\n",
    "    \n",
    "    packaged_task<Task_type> pt0 {accum}; // package the task (i.e., accum)\n",
    "    packaged_task<Task_type> pt1 {accum};\n",
    "    \n",
    "    future<double> f0 {pt0.get_future()}; // get hold of pt0’s future\n",
    "    future<double> f1 {pt1.get_future()}; // get hold of pt1’s future\n",
    "    \n",
    "    double∗ first = &v[0];\n",
    "    thread t1 {move(pt0),first,first+v.siz e()/2,0}; // star t a thread for pt0\n",
    "    thread t2 {move(pt1),first+v.siz e()/2,first+v.siz e(),0}; // star t a thread for pt1\n",
    "    // ...\n",
    "    return f0.get() + f1.get();\n",
    "}"
   ]
  },
  {
   "cell_type": "code",
   "execution_count": null,
   "id": "5ee40c0c",
   "metadata": {},
   "outputs": [],
   "source": [
    "double comp4(vector<double>& v)\n",
    "// spawn many tasks if v is large enough\n",
    "{\n",
    "    if (v.siz e()<10000) return accum(v.begin(),v.end(),0.0);\n",
    "    auto v0 = &v[0];\n",
    "    auto sz = v.siz e();\n",
    "    auto f0 = async(accum,v0,v0+sz/4,0.0); // first quarter\n",
    "    auto f1 = async(accum,v0+sz/4,v0+sz/2,0.0); // second quarter\n",
    "    auto f2 = async(accum,v0+sz/2,v0+sz∗3/4,0.0); // third quarter\n",
    "    auto f3 = async(accum,v0+sz∗3/4,v0+sz,0.0); // four th quar ter\n",
    "    return f0.get()+f1.g et()+f2.get()+f3.get(); // collect and combine the results\n",
    "}   "
   ]
  },
  {
   "cell_type": "code",
   "execution_count": null,
   "id": "5ad77aa0",
   "metadata": {},
   "outputs": [],
   "source": [
    "* `decltype()`: returns the declared type of its argument. "
   ]
  },
  {
   "cell_type": "code",
   "execution_count": null,
   "id": "0d744e07",
   "metadata": {},
   "outputs": [],
   "source": [
    "void f(valarray<double>& a1, valarray<double>& a2) {\n",
    "    valarray<double> a = a1 * 3.14 + a2 / a1;\n",
    "    a2 += a1 * 3.14;\n",
    "    a = abs(a);\n",
    "    double d = a2[7];\n",
    "}"
   ]
  },
  {
   "cell_type": "code",
   "execution_count": 9,
   "id": "8905ea28",
   "metadata": {},
   "outputs": [],
   "source": [
    "#include <limits>"
   ]
  },
  {
   "cell_type": "code",
   "execution_count": 11,
   "id": "bfa72a65",
   "metadata": {},
   "outputs": [
    {
     "name": "stdout",
     "output_type": "stream",
     "text": [
      "2147483647"
     ]
    }
   ],
   "source": [
    "cout << numeric_limits<int>::max();"
   ]
  },
  {
   "cell_type": "markdown",
   "id": "2f913f2f",
   "metadata": {},
   "source": [
    "# Part II: Basic Facilities"
   ]
  },
  {
   "cell_type": "markdown",
   "id": "68d7754a",
   "metadata": {},
   "source": [
    "## Chapter 6: Types and Declarations\n"
   ]
  },
  {
   "cell_type": "code",
   "execution_count": 2,
   "id": "7358470c",
   "metadata": {},
   "outputs": [],
   "source": [
    "bool b1{ 1 == 2 };\n",
    "\n",
    "// non-null pointer converts to true,\n",
    "// pointers with value nullptr converts to false.\n",
    "int *p;\n",
    "bool b = p;\n",
    "bool b2 { p != nullptr };"
   ]
  },
  {
   "cell_type": "markdown",
   "id": "b7afac69",
   "metadata": {},
   "source": [
    "* `wchar_t`: Hold a larger character set, such as Unicode\n",
    "* `char16_t`: Hold 16-bit character set, such as UTF-16 \n",
    "* `char32_t`: Hold 32-bit character set, such as UTF-32 "
   ]
  },
  {
   "cell_type": "markdown",
   "id": "2cc8bffb",
   "metadata": {},
   "source": [
    "* Octal: '\\60', 060\n",
    "* Hexadecimal: '\\x30', 0x30\n",
    "* Decimal: 48"
   ]
  },
  {
   "cell_type": "code",
   "execution_count": 10,
   "id": "4069e9d7",
   "metadata": {},
   "outputs": [
    {
     "name": "stderr",
     "output_type": "stream",
     "text": [
      "\u001b[1minput_line_22:2:12: \u001b[0m\u001b[0;1;35mwarning: \u001b[0m\u001b[1m'alignof' applied to an expression is a GNU extension [-Wgnu-alignof-expression]\u001b[0m\n",
      " auto ac = alignof('c');\n",
      "\u001b[0;1;32m           ^\n",
      "\u001b[0m\u001b[1minput_line_22:3:14: \u001b[0m\u001b[0;1;31merror: \u001b[0m\u001b[1muse of undeclared identifier 'a'\u001b[0m\n",
      "alignas(int) a;\n",
      "\u001b[0;1;32m             ^\n",
      "\u001b[0m"
     ]
    },
    {
     "ename": "Interpreter Error",
     "evalue": "",
     "output_type": "error",
     "traceback": [
      "Interpreter Error: "
     ]
    }
   ],
   "source": [
    "#include<iostream>\n",
    "auto ac = alignof('c');"
   ]
  },
  {
   "cell_type": "code",
   "execution_count": null,
   "id": "01a0d250",
   "metadata": {},
   "outputs": [],
   "source": [
    "double sqrt(double); // function declaration\n",
    "extern int error_number; // variable declaration\n",
    "struct User; // type name declaration"
   ]
  },
  {
   "cell_type": "code",
   "execution_count": null,
   "id": "850c7421",
   "metadata": {},
   "outputs": [],
   "source": [
    "char* kings[]; // array of pointers to char\n",
    "char(*kings)[]; // pointer to an arrar of char    "
   ]
  },
  {
   "cell_type": "code",
   "execution_count": null,
   "id": "d03c4329",
   "metadata": {},
   "outputs": [],
   "source": [
    "// prefer = when using auto.\n",
    "auto z1 {99}; // z1 is an initializer_list<int>\n",
    "auto z2 = 99; // z2 is an int\n",
    "\n",
    "vector<int> v1 {99}; // v1 is a vector of 1 element with the value 99\n",
    "vector<int> v2(99); // v2 is a vector of 99 elements each with the default value 0\n",
    "\n",
    "char buf[max] {}; // initialize every char to 0"
   ]
  },
  {
   "cell_type": "code",
   "execution_count": null,
   "id": "a72f6330",
   "metadata": {},
   "outputs": [],
   "source": [
    "template<class T, class U>\n",
    "auto operator+(const Matrix<T>& a, const Matrix<U>& b) −> Matrix<decltype(T{}+U{})>\n",
    "{\n",
    "    Matrix<decltype(T{}+U{})> res;\n",
    "    for (int i=0; i!=a.rows(); ++i)\n",
    "        for (int j=0; j!=a.cols(); ++j)\n",
    "            res(i,j) += a(i,j) + b(i,j);\n",
    "    \n",
    "    return res;\n",
    "}"
   ]
  },
  {
   "cell_type": "code",
   "execution_count": null,
   "id": "5bb89ede",
   "metadata": {},
   "outputs": [],
   "source": [
    "# Type Aliases\n",
    "using Pchar = char∗; // pointer to character\n",
    "using PF = int(∗)(double); // pointer to function taking a double and returning an int"
   ]
  },
  {
   "cell_type": "markdown",
   "id": "192a6e08",
   "metadata": {},
   "source": [
    "# Chapter 7: Pointers, Arrays, and References"
   ]
  },
  {
   "cell_type": "code",
   "execution_count": 6,
   "id": "cef6f3f4",
   "metadata": {},
   "outputs": [
    {
     "name": "stdout",
     "output_type": "stream",
     "text": [
      "3 3"
     ]
    }
   ],
   "source": [
    "#include<iostream>\n",
    "// raw string\n",
    "R\"(\"quoted string\")\";\n",
    "char a[] = \"1234\";\n",
    "std::cout << a[2] << ' ' << 2[a];"
   ]
  },
  {
   "cell_type": "code",
   "execution_count": null,
   "id": "c84b11d6",
   "metadata": {},
   "outputs": [],
   "source": [
    "void f1(char∗ p)\n",
    "{\n",
    "    char s[] = \"Gorm\";\n",
    "    const char∗ pc = s; // pointer to constant\n",
    "    pc[3] = 'g'; // error : pc points to constant\n",
    "    pc = p; // OK\n",
    "    \n",
    "    char ∗const cp = s; // constant pointer\n",
    "    cp[3] = 'a'; // OK\n",
    "    cp = p; // error : cp is constant\n",
    "    \n",
    "    const char ∗const cpc = s; // const pointer to const\n",
    "    cpc[3] = 'a'; // error : cpc points to constant\n",
    "    cpc = p; // error : cpc is constant\n",
    "}\n",
    "\n",
    "char ∗const cp; // const pointer to char\n",
    "char const∗ pc; // pointer to const char\n",
    "const char∗ pc2; // pointer to const char"
   ]
  },
  {
   "cell_type": "markdown",
   "id": "a9540ca3",
   "metadata": {},
   "source": [
    "* lvalue references: to refer to objects whose value we want to change\n",
    "* const references: to refer to objects whose value we do not want to change (e.g., a constant)\n",
    "* rvalue references: to refer to objects whose value we do not need to preserve after we have used it (e.g., a temporary)"
   ]
  },
  {
   "cell_type": "code",
   "execution_count": 10,
   "id": "d82280f3",
   "metadata": {},
   "outputs": [
    {
     "name": "stdout",
     "output_type": "stream",
     "text": [
      "1"
     ]
    }
   ],
   "source": [
    "int var = 0;\n",
    "int& rr {var};\n",
    "++rr;\n",
    "std::cout<<rr;\n",
    "\n",
    "const double& dr = 1;"
   ]
  },
  {
   "cell_type": "code",
   "execution_count": null,
   "id": "2559167d",
   "metadata": {},
   "outputs": [],
   "source": [
    "string var {\"Cambridge\"};\n",
    "string f();\n",
    "string& r1 {var}; // lvalue reference, bind r1 to var (an lvalue)\n",
    "string& r2 {f()}; // lvalue reference, error : f() is an rvalue\n",
    "string& r3 {\"Princeton\"}; // lvalue reference, error : cannot bind to temporar y\n",
    "\n",
    "string&& rr1 {f()}; // rvalue reference, fine: bind rr1 to rvalue (a temporar y)\n",
    "string&& rr2 {var}; // rvalue reference, error : var is an lvalue\n",
    "string&& rr3 {\"Oxford\"}; // rr3 refers to a temporar y holding \"Oxford\"\n",
    "const string cr1& {\"Harvard\"}; // OK: make temporar y and bind to cr1"
   ]
  },
  {
   "cell_type": "markdown",
   "id": "8a32149c",
   "metadata": {},
   "source": [
    "# Chapter 8: Structures, Unions, and Enumerations"
   ]
  },
  {
   "cell_type": "code",
   "execution_count": null,
   "id": "1d8ae863",
   "metadata": {},
   "outputs": [],
   "source": [
    "//  the compiler is not able to determine the size of No_good.\n",
    "struct No_good {\n",
    "    No_good member; // error : recursive definition\n",
    "};"
   ]
  },
  {
   "cell_type": "markdown",
   "id": "ba136027",
   "metadata": {},
   "source": [
    "# Chapter 9: Statements"
   ]
  },
  {
   "cell_type": "code",
   "execution_count": null,
   "id": "038540bd",
   "metadata": {},
   "outputs": [],
   "source": [
    "for (string s; cin>>s;)\n",
    "    v.push_back(s);"
   ]
  },
  {
   "cell_type": "code",
   "execution_count": null,
   "id": "b6a8ef10",
   "metadata": {},
   "outputs": [],
   "source": [
    "void do_something(int i, int j)\n",
    "// do something to a two-dimensional matrix called mn\n",
    "{\n",
    "    for (i = 0; i!=n; ++i)\n",
    "        for (j = 0; j!=m; ++j)\n",
    "            if (nm[i][j] == a)\n",
    "                goto found;\n",
    "    \n",
    "        // not found\n",
    "        // ...\n",
    "    found:\n",
    "    // nm[i][j] == a\n",
    "}"
   ]
  },
  {
   "cell_type": "markdown",
   "id": "fb1220f8",
   "metadata": {},
   "source": [
    "# Chapter 10: Expressions"
   ]
  },
  {
   "cell_type": "markdown",
   "id": "89b72c94",
   "metadata": {},
   "source": [
    "# Chapter 11: Select Operations"
   ]
  },
  {
   "cell_type": "code",
   "execution_count": null,
   "id": "d071310d",
   "metadata": {},
   "outputs": [],
   "source": [
    "// In programs where exceptions must be avoided, use nothrow versions of new and delete. \n",
    "void f(int n)\n",
    "{\n",
    "    int∗ p = new(nothrow) int[n]; // allocate n ints on the free store\n",
    "    if (p==nullptr) {// no memory available\n",
    "        // ... handle allocation error ...\n",
    "    }\n",
    "    // ...\n",
    "    operator delete(nothrow,p); // deallocate *p\n",
    "}"
   ]
  },
  {
   "cell_type": "code",
   "execution_count": 21,
   "id": "99099257",
   "metadata": {},
   "outputs": [
    {
     "name": "stdout",
     "output_type": "stream",
     "text": [
      "96"
     ]
    }
   ],
   "source": [
    "int a[] {1, 2, 3, 4 ,5};\n",
    "int v {8};\n",
    "v += {88};\n",
    "std::cout<<v;\n"
   ]
  },
  {
   "cell_type": "code",
   "execution_count": null,
   "id": "2c78e0d0",
   "metadata": {},
   "outputs": [],
   "source": [
    "void algo(vector<int>& v)\n",
    "{\n",
    "    sort(v.begin(),v.end()); // sor t values\n",
    "    // ...\n",
    "    sort(v.begin(),v.end(),[](int x, int y) { return abs(x)<abs(y); }); // sor t absolute values\n",
    "    // ...\n",
    "}"
   ]
  },
  {
   "cell_type": "markdown",
   "id": "b06e06b3",
   "metadata": {},
   "source": [
    "* `[]`: no local names from the surrounding context can be used.\n",
    "* `[&]`: all local names can be used, by reference.\n",
    "* `[=]`: all local names can be used, by copy.\n",
    "* `[&, capture-list]`: all local variables with names not mentioned in the list, by reference.\n",
    "* `[=, capture-list]`: all local variables with names not mentioned in the list, by copy.\n"
   ]
  },
  {
   "cell_type": "code",
   "execution_count": null,
   "id": "83b5f34d",
   "metadata": {},
   "outputs": [],
   "source": [
    "void algo(vector<int>& v)\n",
    "{\n",
    "    int count = v.siz e();\n",
    "    std::generate(v.begin(),v.end(),\n",
    "        [count]()mutable{ return −−count; }\n",
    "    );\n",
    "}"
   ]
  },
  {
   "cell_type": "code",
   "execution_count": null,
   "id": "d9085c72",
   "metadata": {},
   "outputs": [],
   "source": [
    "void f(string& s1, string& s2)\n",
    "{\n",
    "    function<void(char∗ b, char∗ e)> rev =\n",
    "        [&](char∗ b, char∗ e) { if (1<e−b) { swap(∗b,∗−−e); rev(++b,e); } };\n",
    "    rev(&s1[0],&s1[0]+s1.siz e());\n",
    "    rev(&s2[0],&s2[0]+s2.siz e());\n",
    "}"
   ]
  },
  {
   "cell_type": "code",
   "execution_count": null,
   "id": "714d7bb2",
   "metadata": {},
   "outputs": [],
   "source": [
    "// A lambda that captures nothing can be assigned to a pointer to function of an appropriate type. For\n",
    "// example:\n",
    "double (∗p1)(double) = [](double a) { return sqrt(a); };\n",
    "double (∗p2)(double) = [&](double a) { return sqrt(a); }; // error : the lambda captures\n",
    "double (∗p3)(int) = [](int a) { return sqrt(a); }; // error : argument types do not match"
   ]
  },
  {
   "cell_type": "markdown",
   "id": "188124a2",
   "metadata": {},
   "source": [
    "Conversions:\n",
    "* `const_cast`: getting write access to something declared const.\n",
    "* `static_cast`: reversing a well-defined implicit conversion.\n",
    "* `reinterpret_cast`: changing the meaning of bit patterns.\n",
    "* `dynamic_cast`: for dynamically checked class hierarchy navigation."
   ]
  },
  {
   "cell_type": "markdown",
   "id": "7eba413c",
   "metadata": {},
   "source": [
    "# Chapter 12: Functions"
   ]
  },
  {
   "cell_type": "code",
   "execution_count": null,
   "id": "32b4a257",
   "metadata": {},
   "outputs": [],
   "source": [
    "#include<vector>\n",
    "using namespace std;\n",
    "template<class T, class U>\n",
    "auto product(const vector<T>& x, const vector<U>& y) -> decltype(x∗y);"
   ]
  },
  {
   "cell_type": "code",
   "execution_count": null,
   "id": "de27d0bf",
   "metadata": {},
   "outputs": [],
   "source": [
    "constexpr int fac(int n)\n",
    "{\n",
    "    return (n>1) ? n∗fac(n−1) : 1;\n",
    "}\n",
    "\n",
    "constexpr int f9 = fac(9); // must be evaluated at compile time\n",
    "int f5 = fac(5); // may be evaluated at compile time\n",
    "int fn = fac(n); // evaluated at run time (n is a var iable)\n",
    "constexpr int f6 = fac(6); // must be evaluated at compile time\n",
    "constexpr int fnn = fac(n); // error : can’t guarantee compile-time evaluation (n is a var iable)\n"
   ]
  },
  {
   "cell_type": "code",
   "execution_count": null,
   "id": "b46e7511",
   "metadata": {},
   "outputs": [],
   "source": [
    "[[noreturn]] void exit(int); // exit will never retur n"
   ]
  },
  {
   "cell_type": "code",
   "execution_count": null,
   "id": "7e6bd809",
   "metadata": {},
   "outputs": [],
   "source": [
    "void f(int a)\n",
    "{\n",
    "    while (a−−) {\n",
    "        static int n = 0; // initialized once\n",
    "        int x = 0; // initialized ’a’ times in each call of f()\n",
    "        cout << \"n == \" << n++ << \", x == \" << x++ << '\\n';\n",
    "    }\n",
    "}"
   ]
  },
  {
   "cell_type": "code",
   "execution_count": null,
   "id": "029133aa",
   "metadata": {},
   "outputs": [],
   "source": [
    "int f(int, int =0, char∗ =nullptr); // OK\n",
    "int g(int =0, int =0, char∗); // error\n",
    "int h(int =0, int, char∗ =nullptr); // error"
   ]
  },
  {
   "cell_type": "code",
   "execution_count": null,
   "id": "de708fd7",
   "metadata": {},
   "outputs": [],
   "source": [
    "void (∗f1)(string) = &error; // OK: same as = error\n",
    "void (∗f2)(string) = error; // OK: same as = &error\n",
    "void g()\n",
    "{\n",
    "    f1(\"Vasa\"); // OK: same as (*f1)(\"Vasa\")\n",
    "    (∗f1)(\"Mary Rose\"); // OK: as f1(\"Mary Rose\")\n",
    "}"
   ]
  },
  {
   "cell_type": "markdown",
   "id": "ca332419",
   "metadata": {},
   "source": [
    "# Chapter 13: Exception Handling"
   ]
  },
  {
   "cell_type": "code",
   "execution_count": null,
   "id": "702fb6ba",
   "metadata": {},
   "outputs": [],
   "source": [
    "\n",
    "void f(int i)\n",
    "{\n",
    "    int∗ p = new int[10];\n",
    "    // ...\n",
    "    if (i<0) {\n",
    "        delete[] p; // delete before the throw or leak\n",
    "        throw Bad();\n",
    "    }\n",
    "    // ...\n",
    "}"
   ]
  },
  {
   "cell_type": "code",
   "execution_count": null,
   "id": "41ff15ed",
   "metadata": {},
   "outputs": [],
   "source": [
    "double compute(double) noexcept; // may not throw an exception\n",
    "\n",
    "template<typename T>\n",
    "void my_fct(T& x) noexcept(Is_pod<T>());"
   ]
  },
  {
   "cell_type": "markdown",
   "id": "85bef3c1",
   "metadata": {},
   "source": [
    "# Chapter 14: Namespaces"
   ]
  },
  {
   "cell_type": "code",
   "execution_count": null,
   "id": "e7b4d0a7",
   "metadata": {},
   "outputs": [],
   "source": [
    "* `::f()`: global scope\n",
    "* Classes are namespaces"
   ]
  },
  {
   "cell_type": "code",
   "execution_count": null,
   "id": "023e61d4",
   "metadata": {},
   "outputs": [],
   "source": [
    "// use namespace alias to shorten names:\n",
    "namespace ATT = American_Telephone_and_Telegraph;"
   ]
  },
  {
   "cell_type": "markdown",
   "id": "317f130b",
   "metadata": {},
   "source": [
    "# Chapter 15: Source Files and Programs"
   ]
  },
  {
   "cell_type": "code",
   "execution_count": null,
   "id": "826d0d7e",
   "metadata": {},
   "outputs": [],
   "source": [
    "static int x1 = 1; // internal linkage: not accessible from other translation units\n",
    "const char x2 = 'a'; // internal linkage: not accessible from other translation units\n",
    "\n",
    "int x1 = 1; // exter nal linkage: accessible from other translation units\n",
    "extern const char x2 = 'a'; // exter nal linkage: accessible from other translation units"
   ]
  },
  {
   "cell_type": "markdown",
   "id": "787c4cd2",
   "metadata": {},
   "source": [
    "# Chapter 16: Classes"
   ]
  },
  {
   "cell_type": "code",
   "execution_count": null,
   "id": "6e0719b7",
   "metadata": {},
   "outputs": [],
   "source": [
    "class Date {\n",
    "    int d, m, y;\n",
    "public:\n",
    "    explicit Date(int dd =0, int mm =0, int yy =0);\n",
    "    // ...\n",
    "};\n",
    "Date d1 {15}; // OK: considered explicit\n",
    "Date d2 = Date{15}; // OK: explicit\n",
    "Date d3 = {15}; // error : = initialization does not do implicit conversions\n",
    "Date d4 = 15; // error : = initialization does not do implicit conversions"
   ]
  },
  {
   "cell_type": "code",
   "execution_count": null,
   "id": "147ec557",
   "metadata": {},
   "outputs": [],
   "source": [
    "// const indicates that these functions do not modify the state of a Date.\n",
    "class Date {\n",
    "    int d, m, y;\n",
    "public:\n",
    "    int day() const { return d; }\n",
    "    int month() const { return m; }\n",
    "    int year() const;\n",
    "    void add_year(int n); // add n years\n",
    "    // ...\n",
    "};"
   ]
  },
  {
   "cell_type": "code",
   "execution_count": null,
   "id": "4e562db5",
   "metadata": {},
   "outputs": [],
   "source": [
    "// mutable, meaning that it can be modified even in a const\n",
    "object\n",
    "class Date {\n",
    "public:\n",
    "    // ...\n",
    "    string string_rep() const; // string representation\n",
    "    private:\n",
    "    mutable bool cache_valid;\n",
    "    mutable string cache;\n",
    "    void compute_cache_value() const; // fill (mutable) cache\n",
    "    // ...\n",
    "};\n",
    "string Date::string_rep() const\n",
    "{\n",
    "    if (!cache_valid) {\n",
    "        compute_cache_value();\n",
    "        cache_valid = true;\n",
    "    }\n",
    "    return cache;\n",
    "}\n",
    "\n",
    "void f(Date d, const Date cd)\n",
    "{\n",
    "    string s1 = d.string_rep();\n",
    "    string s2 = cd.string_rep(); // OK!\n",
    "    // ...\n",
    "}"
   ]
  },
  {
   "cell_type": "code",
   "execution_count": null,
   "id": "b99759cf",
   "metadata": {},
   "outputs": [],
   "source": [
    "// const does not apply (transitively) to objects accessed through pointers or references.\n",
    "\n",
    "struct cache {\n",
    "    bool valid;\n",
    "    string rep;\n",
    "};\n",
    "class Date {\n",
    "public:\n",
    "    // ...\n",
    "    string string_rep() const; // string representation\n",
    "    private:\n",
    "    cache∗ c; // initialize in constr uctor\n",
    "    void compute_cache_value() const; // fill what cache refers to\n",
    "    // ...\n",
    "};\n",
    "string Date::string_rep() const\n",
    "{\n",
    "    if (!c−>valid) {\n",
    "        compute_cache_value();\n",
    "        c−>valid = true;\n",
    "    }\n",
    "    return c−>rep;\n",
    "}"
   ]
  },
  {
   "cell_type": "markdown",
   "id": "a51cd455",
   "metadata": {},
   "source": [
    "# Chapter 17: Construction, Cleanup, Copy, and Move"
   ]
  },
  {
   "cell_type": "code",
   "execution_count": null,
   "id": "e0b09b50",
   "metadata": {},
   "outputs": [],
   "source": [
    "class Node {\n",
    "    // ...\n",
    "    static int node_count; // declaration\n",
    "};\n",
    "int Node::node_count = 0; // definition"
   ]
  },
  {
   "cell_type": "markdown",
   "id": "bf664a70",
   "metadata": {},
   "source": [
    "Copy for a class X is defined by two operations:\n",
    "* Copy constructor: X(const X&)\n",
    "* Copy assignment: X& operator=(const X&)"
   ]
  },
  {
   "cell_type": "code",
   "execution_count": null,
   "id": "c321d728",
   "metadata": {},
   "outputs": [],
   "source": [
    "template<class T>\n",
    "void swap(T& a, T& b) // \"perfect swap\" (almost)\n",
    "{\n",
    "    T tmp = std::move(a);\n",
    "    a = std::move(b);\n",
    "    b = std::move(tmp);\n",
    "}"
   ]
  },
  {
   "cell_type": "code",
   "execution_count": null,
   "id": "24145468",
   "metadata": {},
   "outputs": [],
   "source": [
    "class Base {\n",
    "    // ...\n",
    "    Base& operator=(const Base&) = delete;// disallow copying\n",
    "    Base(const Base&) = delete;\n",
    "    Base& operator=(Base&&) = delete; // disallow moving\n",
    "    Base(Base&&) = delete;\n",
    "    };\n",
    "Base x1;\n",
    "Base x2 {x1}; // error : no copy constr uctor"
   ]
  },
  {
   "cell_type": "markdown",
   "id": "53bf74b6",
   "metadata": {},
   "source": [
    "# Chapter 18: Operator Overloading"
   ]
  },
  {
   "cell_type": "markdown",
   "id": "8aa35efb",
   "metadata": {},
   "source": [
    "The following operators cannot be defined by a user:\n",
    "* `::`: scope resolution\n",
    "* `.`:  member selection\n",
    "* `.∗`: member selection through pointer to member\n",
    "* `?:` conditional evaluation"
   ]
  },
  {
   "cell_type": "markdown",
   "id": "08db5aa3",
   "metadata": {},
   "source": [
    "# Chapter 19: Special Operators"
   ]
  },
  {
   "cell_type": "markdown",
   "id": "c53e04dd",
   "metadata": {},
   "source": [
    "`[] () −> ++ −− new delete`"
   ]
  },
  {
   "cell_type": "code",
   "execution_count": null,
   "id": "4a161c69",
   "metadata": {},
   "outputs": [],
   "source": [
    "template<typename T>\n",
    "class Ptr {\n",
    "    T∗ ptr;\n",
    "    T∗ array;\n",
    "    int sz;\n",
    "public:\n",
    "    template<int N>\n",
    "    Ptr(T∗ p, T(&a)[N]); // bind to array a, sz==N, initial value p\n",
    "    Ptr(T∗ p, T∗ a, int s); // bind to array a of size s, initial value p\n",
    "    Ptr(T∗ p); // bind to single object, sz==0, initial value p\n",
    "    Ptr& operator++(); // prefix\n",
    "    Ptr operator++(int); // postfix\n",
    "    Ptr& operator−−(); // prefix\n",
    "    Ptr operator−−(int); // postfix\n",
    "    T& operator∗(); // prefix\n",
    "};"
   ]
  },
  {
   "cell_type": "code",
   "execution_count": null,
   "id": "87335d76",
   "metadata": {},
   "outputs": [],
   "source": [
    "constexpr rc_max {4}; // row and column size\n",
    "class Matrix;\n",
    "class Vector {\n",
    "    float v[rc_max];\n",
    "    // ...\n",
    "    friend Vector operator∗(const Matrix&, const Vector&);\n",
    "};\n",
    "\n",
    "class Matrix {\n",
    "    Vector v[rc_max];\n",
    "    // ...\n",
    "    friend Vector operator∗(const Matrix&, const Vector&);\n",
    "};\n",
    "\n",
    "Vector operator∗(const Matrix& m, const Vector& v)\n",
    "{\n",
    "    Vector r;\n",
    "    for (int i = 0; i!=rc_max; i++) { // r[i] = m[i] * v;\n",
    "        r.v[i] = 0;\n",
    "        for (int j = 0; j!=rc_max; j++)\n",
    "            r.v[i] += m.v[i].v[j] ∗ v.v[j];\n",
    "    }\n",
    "    return r;\n",
    "}"
   ]
  },
  {
   "cell_type": "markdown",
   "id": "0c75cf09",
   "metadata": {},
   "source": [
    "# Chapter 20: Derived Classes"
   ]
  },
  {
   "cell_type": "markdown",
   "id": "89e25e48",
   "metadata": {},
   "source": [
    "To get runtime polymorphic behavior in C++, the member functions called must be virtual and objects must be manipulated through\n",
    "pointers or references. When manipulating an object directly (rather than through a pointer or reference), its exact type is known by the compiler so that run-time polymorphism is not needed"
   ]
  },
  {
   "cell_type": "markdown",
   "id": "c40e3244",
   "metadata": {},
   "source": [
    "* `virtual`: The function may be overridden\n",
    "* `=0`: The function must be virtual and must be overridden\n",
    "* `override`: The function is meant to override a virtual function in a base class\n",
    "* `final`: The function is not meant to be overridden "
   ]
  },
  {
   "cell_type": "code",
   "execution_count": 56,
   "id": "4ff091d1",
   "metadata": {},
   "outputs": [],
   "source": [
    "#include<iostream>\n",
    "using namespace std;\n",
    "\n",
    "struct Base {\n",
    "    void ff(int x) {\n",
    "        std::cout<<x+1;\n",
    "    }\n",
    "};\n",
    "\n",
    "struct Derived: Base {\n",
    "    void fgf(int x) {\n",
    "        std::cout<<x;\n",
    "    }\n",
    "};"
   ]
  },
  {
   "cell_type": "code",
   "execution_count": 57,
   "id": "130ae36b",
   "metadata": {},
   "outputs": [
    {
     "name": "stdout",
     "output_type": "stream",
     "text": [
      "2"
     ]
    }
   ],
   "source": [
    "Derived b{};\n",
    "b.ff(1);"
   ]
  },
  {
   "cell_type": "code",
   "execution_count": null,
   "id": "f6ee78c2",
   "metadata": {},
   "outputs": [],
   "source": [
    "template<class T>\n",
    "struct Vector : std::vector<T> {\n",
    "    using vector<T>::vector; // inherit constr uctors\n",
    "    T& operator=[](size_type i) { check(i); return this−>elem(i); }\n",
    "    const T& operator=(size_type i) const { check(i); return this−>elem(i); }\n",
    "    void check(siz e_type i) { if (this−>size()<i) throw Bad_index(i); }\n",
    "};\n",
    "Vector<int> v { 1, 2, 3, 5, 8 }; // OK: use initializer-list constructor from std::vector"
   ]
  },
  {
   "cell_type": "code",
   "execution_count": null,
   "id": "e206d557",
   "metadata": {},
   "outputs": [],
   "source": [
    "// A class with one or more pure virtual functions is an abstract class, and no objects of that abstract\n",
    "// class can be created:\n",
    "class Shape { // abstract class\n",
    "public:\n",
    "    virtual void rotate(int) = 0; // pure virtual function\n",
    "    virtual void draw() const = 0; // pure virtual function\n",
    "    virtual bool is_closed() const = 0; // pure virtual function\n",
    "    // ...\n",
    "    virtual ˜Shape(); // vir tual\n",
    "};"
   ]
  },
  {
   "cell_type": "markdown",
   "id": "8c436cab",
   "metadata": {},
   "source": [
    "* If it is private, its name can be used only by member functions and friends of the class in which it is declared\n",
    "* If it is protected, its name can be used only by member functions and friends of the class in which it is declared and by member functions and friends of classes derived from this class\n",
    "\n",
    "* If it is public, its name can be used by any function"
   ]
  },
  {
   "cell_type": "markdown",
   "id": "ba40bc78",
   "metadata": {},
   "source": [
    "* public derivation makes the derived class a subtype of its base. For example, X is a kind of B. This is the most common form of derivation.\n",
    "* private bases are most useful when defining a class by restricting the interface to a base so that stronger guarantees can be provided. For example, B is an implementation detail of Z. The Vector of pointers template that adds type checking to its Vector<void∗> base from §25.3\n",
    "is a good example.\n",
    "* protected bases are useful in class hierarchies in which further derivation is the norm. Like private derivation, protected derivation is used to represent implementation details. The Ival_slider from §21.2.2 is a good example."
   ]
  },
  {
   "cell_type": "markdown",
   "id": "b7520949",
   "metadata": {},
   "source": [
    "* If B is a private base, its public and protected members can be used only by member functions and friends of D. Only friends and members of D can convert a D∗ to a B∗.\n",
    "* If B is a protected base, its public and protected members can be used only by member functions and friends of D and by member functions and friends of classes derived from D. Only friends and members of D and friends and members of classes derived from D can convert a D∗ to a B∗.\n",
    "* If B is a public base, its public members can be used by any function. In addition, its protected members can be used by members and friends of D and members and friends of classes derived from D. Any function can convert a D∗ to a B∗."
   ]
  },
  {
   "cell_type": "code",
   "execution_count": null,
   "id": "77d0f590",
   "metadata": {},
   "outputs": [],
   "source": [
    "using Pstd_mem = void (Std_interface::∗)(); // pointer-to-member type\n",
    "void f(Std_interface∗ p)\n",
    "{\n",
    "    Pstd_mem s = &Std_interface::suspend; // pointer to suspend()\n",
    "    p−>suspend(); // direct call\n",
    "    p−>∗s(); // call through pointer to member\n",
    "}"
   ]
  },
  {
   "cell_type": "markdown",
   "id": "73c60d8b",
   "metadata": {},
   "source": [
    "# Chapter 21: Class Hierarchies"
   ]
  },
  {
   "cell_type": "markdown",
   "id": "33f3c048",
   "metadata": {},
   "source": [
    "# Chapter 22: Run-Time Type Information"
   ]
  },
  {
   "cell_type": "code",
   "execution_count": null,
   "id": "3f8f389a",
   "metadata": {},
   "outputs": [],
   "source": [
    "// A dynamic_cast to void∗ can be used to determine the address of the beginning of an object of polymorphic type. For example:\n",
    "void g(Ival_box∗ pb, Date∗ pd)\n",
    "{\n",
    "    void∗ pb2 = dynamic_cast<void∗>(pb); // OK\n",
    "    void∗ pd2 = dynamic_cast<void∗>(pd); // error : Date not polymorphic\n",
    "}"
   ]
  },
  {
   "cell_type": "code",
   "execution_count": null,
   "id": "67e3db62",
   "metadata": {},
   "outputs": [],
   "source": [
    "void f(Shape& r, Shape∗ p)\n",
    "{\n",
    "    typeid(r); // type of the object referred to by r\n",
    "    typeid(∗p); // type of the object pointed to by p\n",
    "    typeid(p); // type of the pointer, that is, Shape* (uncommon, except as a mistake)\n",
    "}"
   ]
  },
  {
   "cell_type": "markdown",
   "id": "24da6a76",
   "metadata": {},
   "source": [
    "# Chapter 23: Templates"
   ]
  },
  {
   "cell_type": "code",
   "execution_count": null,
   "id": "902f2238",
   "metadata": {},
   "outputs": [],
   "source": [
    "template<typename Scalar>\n",
    "class complex {\n",
    "    Scalar re, im;\n",
    "public:\n",
    "    complex() :re{}, im{} {} // default constructor\n",
    "    template<typename T>\n",
    "    complex(T rr, T ii =0) :re{rr}, im{ii} { }\n",
    "    complex(const complex&) = default; // copy constr uctor\n",
    "    template<typename T>\n",
    "    complex(const complex<T>& c) : re{c.real()}, im{c.imag()} { }\n",
    "    // ...\n",
    "};"
   ]
  },
  {
   "cell_type": "code",
   "execution_count": null,
   "id": "096bff21",
   "metadata": {},
   "outputs": [],
   "source": [
    "// A member template cannot be virtual. For example:\n",
    "class Shape {\n",
    "// ...\n",
    "template<typename T>\n",
    "virtual bool intersect(const T&) const =0; // error : vir tual template\n",
    "};"
   ]
  },
  {
   "cell_type": "code",
   "execution_count": null,
   "id": "fb65fa9d",
   "metadata": {},
   "outputs": [],
   "source": [
    "template<typename T, typename Compare = std::less<T>>\n",
    "void sort(vector<T>& v) // definition\n",
    "// Shell sort (Knuth, Vol. 3, pg. 84)\n",
    "{\n",
    "    Compare cmp; // make a default Compare object\n",
    "    const size_t n = v.siz e();\n",
    "    for (int gap=n/2; 0<gap; gap/=2)\n",
    "        for (int i=gap; i<n; i++)\n",
    "            for (int j=i−gap; 0<=j; j−=gap)\n",
    "                if (cmp(v[j+gap],v[j]))\n",
    "                    swap(v[j],v[j+gap]);\n",
    "}"
   ]
  },
  {
   "cell_type": "code",
   "execution_count": null,
   "id": "fe1f6715",
   "metadata": {},
   "outputs": [],
   "source": [
    "template<typename T, int max>\n",
    "struct Buffer {\n",
    "    T buf[max];\n",
    "public:\n",
    "    // ...\n",
    "};\n",
    "template<typename T, int max>\n",
    "T& lookup(Buffer<T,max>& b, const char∗ p);\n",
    "Record& f(Buffer<string,128>& buf, const char∗ p)\n",
    "{\n",
    "    return lookup(buf,p); // use the lookup() where T is string and i is 128\n",
    "}"
   ]
  },
  {
   "cell_type": "code",
   "execution_count": null,
   "id": "b7209ce1",
   "metadata": {},
   "outputs": [],
   "source": [
    "template<typename T, typename Allocator = allocator<T>> vector;\n",
    "using Cvec = vector<char>; // both arguments are bound\n",
    "Cvec vc = {'a', 'b', 'c'}; // vc is a vector<char,allocator<char>>\n",
    "template<typename T>\n",
    "using Vec = vector<T,My_alloc<T>>; // vector using my allocator (2nd argument is bound)\n",
    "Vec<int> fib = {0, 1, 1, 2, 3, 5, 8, 13}; // fib is a vector<int,My_alloc<int>>"
   ]
  },
  {
   "cell_type": "markdown",
   "id": "e3ee9462",
   "metadata": {},
   "source": [
    "# Chapter 24: Generic Programming"
   ]
  }
 ],
 "metadata": {
  "kernelspec": {
   "display_name": "C++11 [conda env:xeus]",
   "language": "C++11",
   "name": "conda-env-xeus-xcpp11"
  },
  "language_info": {
   "codemirror_mode": "text/x-c++src",
   "file_extension": ".cpp",
   "mimetype": "text/x-c++src",
   "name": "c++",
   "version": "11"
  }
 },
 "nbformat": 4,
 "nbformat_minor": 5
}
