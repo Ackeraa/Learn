{
 "cells": [
  {
   "cell_type": "markdown",
   "id": "d80b8189",
   "metadata": {},
   "source": [
    "# Part I: Introduction"
   ]
  },
  {
   "cell_type": "markdown",
   "id": "c7599efa",
   "metadata": {},
   "source": [
    "## Chapter 2: The Basics"
   ]
  },
  {
   "cell_type": "code",
   "execution_count": null,
   "id": "8acd3882",
   "metadata": {},
   "outputs": [],
   "source": [
    "int i1 = 1;\n",
    "int i2{1};\n",
    "auto i3{1.2};\n",
    "\n",
    "cout << i1 << ' ' << i2 << ' ' << i3 << endl;"
   ]
  },
  {
   "cell_type": "code",
   "execution_count": null,
   "id": "5bcdb380",
   "metadata": {},
   "outputs": [],
   "source": [
    "double sum(const vector<double>&v) { \n",
    "    double s = 0;\n",
    "    for (double x : v) {\n",
    "        s += x;\n",
    "    }\n",
    "    return s;\n",
    "}"
   ]
  },
  {
   "cell_type": "code",
   "execution_count": null,
   "id": "535590d5",
   "metadata": {},
   "outputs": [],
   "source": [
    "constexpr double square(double x) { return x * x; }"
   ]
  },
  {
   "cell_type": "markdown",
   "id": "b321f415",
   "metadata": {},
   "source": [
    " `const` : value can not be changed.\n",
    " \n",
    "\n",
    " `constexpr`: to be valued at compile time."
   ]
  },
  {
   "cell_type": "code",
   "execution_count": null,
   "id": "78ed9739",
   "metadata": {},
   "outputs": [],
   "source": [
    "const int a = 1;\n",
    "int b = 2;\n",
    "constexpr double c1 = 1.4 * a;\n",
    "// constexpr double c2 = 1.4 * b; // error\n",
    "\n",
    "vector<double> v {1.2, 3.4, 4.5};\n",
    "const double s1 = sum(v);\n",
    "cout << s1 << endl;\n",
    "\n",
    "// constexpr double s2 = sum(v); // error\n",
    "constexpr double s3 = square(a);\n"
   ]
  },
  {
   "cell_type": "markdown",
   "id": "941978eb",
   "metadata": {},
   "source": [
    "`*`:\n",
    "* in declaration: pointer.\n",
    "* otherwise: contents of.\n",
    "\n",
    "`&`: \n",
    "* in declaration: reference to.\n",
    "* otherwise: address of.\n",
    "\n",
    "`.`: access `struct` members through a name or reference.\n",
    "\n",
    "`->`: access `sturct` members through a pointer.\n"
   ]
  },
  {
   "cell_type": "code",
   "execution_count": null,
   "id": "81604a64",
   "metadata": {},
   "outputs": [],
   "source": [
    "enum class Color { red, blue, green };\n",
    "\n",
    "Color col = Color::red;\n"
   ]
  },
  {
   "cell_type": "code",
   "execution_count": null,
   "id": "357ede4d",
   "metadata": {},
   "outputs": [],
   "source": [
    "namespace MyCode {\n",
    "    class complex { };\n",
    "    complex sqrt(complex);\n",
    "    int main();\n",
    "}"
   ]
  },
  {
   "cell_type": "code",
   "execution_count": null,
   "id": "a84c8737",
   "metadata": {},
   "outputs": [],
   "source": [
    "static_assert(4 <= sizeof(int), \"intergers are too small\"); // check at compile time"
   ]
  },
  {
   "cell_type": "markdown",
   "id": "a4d072bb",
   "metadata": {},
   "source": [
    "## Chapter 3: Abstraction Mechanisms"
   ]
  },
  {
   "cell_type": "markdown",
   "id": "0301dec4",
   "metadata": {},
   "source": [
    "`std::initializer_list`: define the initializer-list constructor"
   ]
  },
  {
   "cell_type": "code",
   "execution_count": null,
   "id": "089da21e",
   "metadata": {},
   "outputs": [],
   "source": [
    "Vector::Vector<std:initializer_list<double> lst):elem{new double[lst.size()], sz{lst.size()}} {\n",
    "    copy(lst.begin(), lst.end(), elem);\n",
    "}"
   ]
  },
  {
   "cell_type": "code",
   "execution_count": null,
   "id": "7abd0538",
   "metadata": {},
   "outputs": [],
   "source": [
    "class Point\n",
    "{\n",
    "    private:\n",
    "        int x, y;\n",
    "    public:\n",
    "        Point() : x(0), y(0) {}\n",
    "        Point(int x, int y) : x(x), y(y) {}\n",
    "}"
   ]
  },
  {
   "cell_type": "code",
   "execution_count": null,
   "id": "4746ab03",
   "metadata": {},
   "outputs": [],
   "source": [
    "class Shape {\n",
    "public:\n",
    "    virtual Point center() const=0;\n",
    "    virtual void move(Point to)=0;\n",
    "    \n",
    "    virtual void draw() const=0;\n",
    "    virtual void rotate(int angle)=0;\n",
    "    \n",
    "    virtual ~Shape(){}\n",
    "    \n",
    "};"
   ]
  },
  {
   "cell_type": "code",
   "execution_count": null,
   "id": "e2eba7f7",
   "metadata": {},
   "outputs": [],
   "source": [
    "void rotate_all(vector<Shape*>& v, int angle) \n",
    "{\n",
    "    for (auto p : v)\n",
    "        p->rotate(angle);\n",
    "}"
   ]
  },
  {
   "cell_type": "code",
   "execution_count": null,
   "id": "308b3361",
   "metadata": {},
   "outputs": [],
   "source": [
    "class Circle : public Shape {\n",
    "public:\n",
    "    Circle(Point p, int rr);\n",
    "    \n",
    "    Point center() const { return x; }\n",
    "    void move(Point to) { x = to; }\n",
    "    \n",
    "    void draw() const;\n",
    "    void rotate(int) {}\n",
    "    \n",
    "private:\n",
    "    Point x;\n",
    "    int r;\n",
    "};"
   ]
  },
  {
   "cell_type": "code",
   "execution_count": null,
   "id": "a882ca36",
   "metadata": {},
   "outputs": [],
   "source": [
    "class Smiley : public Circle {\n",
    "public:\n",
    "    Smiley(Point p, int r): Circle{p, r}, mouth{ nullptr } {}\n",
    "    \n",
    "    ~Smiley()\n",
    "    {\n",
    "        delete mouth;\n",
    "        for (auto p : eyes) delete p;\n",
    "    }\n",
    "    \n",
    "    void move(Point to);\n",
    "    \n",
    "    void draw() const;\n",
    "    void rotate(int);\n",
    "    \n",
    "    void add_eye(Shape* s) { eyes.push_back(s); }\n",
    "    void set_mouth(Shape* s);\n",
    "    virtual void wink(int i);\n",
    "    \n",
    "private:\n",
    "    vector<Shape*> eyes;\n",
    "    Shape* mouth;\n",
    "}\n",
    "\n",
    "void Smiley::draw()\n",
    "{\n",
    "    Circle::draw();\n",
    "    for (auto p : eyes)\n",
    "        p->draw();\n",
    "    mouth->draw();\n",
    "}\n"
   ]
  },
  {
   "cell_type": "markdown",
   "id": "3b492a54",
   "metadata": {},
   "source": [
    "* copy constructor: called when class was created.\n",
    "* copy assignment：called when assigned. "
   ]
  },
  {
   "cell_type": "code",
   "execution_count": null,
   "id": "2930ebfd",
   "metadata": {},
   "outputs": [],
   "source": [
    "class A {\n",
    " public:\n",
    "  A() {\n",
    "    std::cout << \"A() called!\\n\";\n",
    "  }\n",
    "  A(const A& a) {\n",
    "    std::cout << \"A(const A& a) called!\\n\";\n",
    "  }\n",
    "  A& operator=(const A& a) {\n",
    "    std::cout << \"operator=(const A& a)!\\n\";\n",
    "    return *this;\n",
    "  }\n",
    "};\n"
   ]
  },
  {
   "cell_type": "code",
   "execution_count": null,
   "id": "22890364",
   "metadata": {},
   "outputs": [],
   "source": []
  },
  {
   "cell_type": "code",
   "execution_count": null,
   "id": "e9f02b19",
   "metadata": {},
   "outputs": [],
   "source": [
    " A a1;\n",
    " A a2 = a1;\n",
    " A a3(a1);\n",
    " a3 = a2;"
   ]
  },
  {
   "cell_type": "code",
   "execution_count": null,
   "id": "ed9a124c",
   "metadata": {},
   "outputs": [],
   "source": [
    "// function objects\n",
    "template<typename T>\n",
    "class LessTan {\n",
    "    const T val;\n",
    "public:\n",
    "    LessTan(const T& v):val(v) {}\n",
    "    bool operator()(const T& x) const { return x < val; }\n",
    "};"
   ]
  },
  {
   "cell_type": "code",
   "execution_count": null,
   "id": "9ab35a84",
   "metadata": {},
   "outputs": [],
   "source": [
    "LessTan<int> lti{42};\n",
    "cout << lti(10);"
   ]
  },
  {
   "cell_type": "markdown",
   "id": "97f4a088",
   "metadata": {},
   "source": [
    "##  Chapter 4: Containers and Algorithms"
   ]
  },
  {
   "cell_type": "code",
   "execution_count": null,
   "id": "8b50e2f8",
   "metadata": {},
   "outputs": [],
   "source": [
    "// I/O\n",
    "struct Entry {\n",
    "    string name;\n",
    "    int number;\n",
    "};\n"
   ]
  },
  {
   "cell_type": "code",
   "execution_count": null,
   "id": "07c15952",
   "metadata": {},
   "outputs": [],
   "source": [
    "int sum(){ return 1;}"
   ]
  },
  {
   "cell_type": "code",
   "execution_count": null,
   "id": "f325dd45",
   "metadata": {},
   "outputs": [],
   "source": [
    "ostream& operator<<(ostream& os, const Entry& e) \n",
    "{\n",
    "    return os << e.name << ' ' << e.number << endl;\n",
    "}"
   ]
  },
  {
   "cell_type": "code",
   "execution_count": 2,
   "id": "04704a65",
   "metadata": {},
   "outputs": [],
   "source": [
    "#include <iostream>\n",
    "#include <algorithm>\n",
    "#include <vector>\n",
    "using namespace std;"
   ]
  },
  {
   "cell_type": "markdown",
   "id": "602331f7",
   "metadata": {},
   "source": [
    "* `unique_copy`"
   ]
  },
  {
   "cell_type": "code",
   "execution_count": null,
   "id": "8f7d7e05",
   "metadata": {},
   "outputs": [],
   "source": [
    "// back_insert, unique_copy\n",
    "vector<int>a{1, 2, 3, 2, 3, 4, 5};\n",
    "sort(a.begin(), a.end());\n",
    "vector<int>b(10);\n",
    "unique_copy(a.begin(), a.end(), b.begin());\n"
   ]
  },
  {
   "cell_type": "markdown",
   "id": "71f29e6e",
   "metadata": {},
   "source": [
    "* `find`"
   ]
  },
  {
   "cell_type": "code",
   "execution_count": 3,
   "id": "adff3b45",
   "metadata": {},
   "outputs": [
    {
     "name": "stdout",
     "output_type": "stream",
     "text": [
      "1\n"
     ]
    }
   ],
   "source": [
    "vector<int>a{1, 2, 3, 4, 5};\n",
    "auto p = find(a.begin(), a.end(), 2);\n",
    "cout << p - a.begin() << endl;"
   ]
  },
  {
   "cell_type": "code",
   "execution_count": 5,
   "id": "f9774608",
   "metadata": {},
   "outputs": [],
   "source": [
    "template<typename C, typename V>\n",
    "vector<typename C::iterator> find_all(C& c, V v) {\n",
    "    vector<typename C::iterator> res;\n",
    "    for (auto p = c.begin(); p != c.end(); ++p) {\n",
    "        if (*p == v)\n",
    "            res.push_back(p);\n",
    "    }\n",
    "    return res;\n",
    "}\n",
    "auto ps = find_all(a, 2);"
   ]
  },
  {
   "cell_type": "code",
   "execution_count": 8,
   "id": "50b2ccbc",
   "metadata": {},
   "outputs": [],
   "source": [
    "template<typename T>\n",
    "using Iterator = typename T::iterator;\n",
    "\n",
    "template<typename C, typename V>\n",
    "vector<Iterator<C>> find_all(C& c, V v) {\n",
    "    vector<Iterator<C>> res;\n",
    "    for (auto p = c.begin(); p != c.end(); ++p) {\n",
    "        if (*p == v)\n",
    "            res.push_back(p);\n",
    "    }\n",
    "    return res;\n",
    "}\n",
    "auto ps = find_all(a, 2);"
   ]
  },
  {
   "cell_type": "markdown",
   "id": "909a9823",
   "metadata": {},
   "source": [
    "* `unique_ptr`: to represent unique ownership\n",
    "* `shared_ptr`: to represent shared ownership "
   ]
  },
  {
   "cell_type": "markdown",
   "id": "fc8cf50a",
   "metadata": {},
   "source": [
    "## Chapter 5: Concurrency and Utilities"
   ]
  },
  {
   "cell_type": "markdown",
   "id": "25de3a7d",
   "metadata": {},
   "source": [
    "* `join`: wait for the thread to terminate. "
   ]
  },
  {
   "cell_type": "code",
   "execution_count": null,
   "id": "f1c20564",
   "metadata": {},
   "outputs": [],
   "source": [
    "mutex m; // controlling mutex\n",
    "int sh; // shared data\n",
    "void f()\n",
    "{\n",
    "    unique_lock<mutex> lck {m}; // acquire mutex\n",
    "    sh += 7; // manipulate shared data\n",
    "}"
   ]
  },
  {
   "cell_type": "code",
   "execution_count": null,
   "id": "f72a88b6",
   "metadata": {},
   "outputs": [],
   "source": [
    "// avoid dead lock\n",
    "void f() {\n",
    "    unique_lock<mutex> lck1 {m1, defer_lock};\n",
    "    unique_lock<mutex> lck2 {m2, defer_lock};\n",
    "    unique_lock<mutex> lck3 {m3, defer_lock};\n",
    "    \n",
    "    lock(lck1, lck2, lck3);\n",
    "}"
   ]
  },
  {
   "cell_type": "code",
   "execution_count": null,
   "id": "7078942f",
   "metadata": {},
   "outputs": [],
   "source": [
    "class Message {\n",
    "    \n",
    "};\n",
    "queue<Message> mqueue;\n",
    "condition_variable mcond;\n",
    "mutex mmutex;\n",
    "\n",
    "void consumer() {\n",
    "    while (true) {\n",
    "        unique_lock<mutex> lck{mmutex};\n",
    "        while (mcond.wait(lck));\n",
    "        auto m = mqueue.front();\n",
    "        mqueue.pop();\n",
    "        lck.unlock();\n",
    "    }\n",
    "}\n",
    "\n",
    "void producer() {\n",
    "    while (true) {\n",
    "        Message m;\n",
    "        unique_lock<mutex> lck {mmutex};\n",
    "        mqueue.push(m);\n",
    "        mcond.notify_one();\n",
    "    }\n",
    "}"
   ]
  },
  {
   "cell_type": "markdown",
   "id": "b8d369e3",
   "metadata": {},
   "source": [
    "* `future`, `promise`: return a value from a task spawned on a separated thread \n",
    "* `packaged_task`: help launch tasks and connect up the mechanisms for returning a result\n",
    "* `async`: launch of a task in a manner very similar to calling a function"
   ]
  },
  {
   "cell_type": "code",
   "execution_count": null,
   "id": "3b168ecf",
   "metadata": {},
   "outputs": [],
   "source": [
    "void f(promise<X>& px) // a task: place the result in px\n",
    "{\n",
    "    // ...\n",
    "    try {\n",
    "        X res;\n",
    "        // ... compute a value for res ...\n",
    "        px.set_value(res);\n",
    "    }\n",
    "    catch (...) { // oops: couldn’t compute res\n",
    "        // pass the exception to the future’s thread:\n",
    "        px.set_exception(current_exception());\n",
    "    }\n",
    "}\n",
    "void g(future<X>& fx) // a task: get the result from fx\n",
    "{\n",
    "    // ...\n",
    "    try {\n",
    "        X v = fx.g et(); // if necessary, wait for the value to get computed\n",
    "        // ... use v ...\n",
    "        }\n",
    "    catch (...) { // oops: someone couldn’t compute v\n",
    "        // ... handle error ...\n",
    "    }\n",
    "}"
   ]
  },
  {
   "cell_type": "code",
   "execution_count": null,
   "id": "4a5a13fb",
   "metadata": {},
   "outputs": [],
   "source": [
    "double accum(double∗ beg, double ∗ end, double init)\n",
    "// compute the sum of [beg:end) starting with the initial value init\n",
    "{\n",
    "    return accumulate(beg,end,init);\n",
    "}\n",
    "\n",
    "double comp2(vector<double>& v)\n",
    "{\n",
    "    using Task_type = double(double∗,double∗,double); // type of task\n",
    "    \n",
    "    packaged_task<Task_type> pt0 {accum}; // package the task (i.e., accum)\n",
    "    packaged_task<Task_type> pt1 {accum};\n",
    "    \n",
    "    future<double> f0 {pt0.get_future()}; // get hold of pt0’s future\n",
    "    future<double> f1 {pt1.get_future()}; // get hold of pt1’s future\n",
    "    \n",
    "    double∗ first = &v[0];\n",
    "    thread t1 {move(pt0),first,first+v.siz e()/2,0}; // star t a thread for pt0\n",
    "    thread t2 {move(pt1),first+v.siz e()/2,first+v.siz e(),0}; // star t a thread for pt1\n",
    "    // ...\n",
    "    return f0.get() + f1.get();\n",
    "}"
   ]
  },
  {
   "cell_type": "code",
   "execution_count": null,
   "id": "0aa1dfc1",
   "metadata": {},
   "outputs": [],
   "source": [
    "double comp4(vector<double>& v)\n",
    "// spawn many tasks if v is large enough\n",
    "{\n",
    "    if (v.siz e()<10000) return accum(v.begin(),v.end(),0.0);\n",
    "    auto v0 = &v[0];\n",
    "    auto sz = v.siz e();\n",
    "     auto f0 = async(accum,v0,v0+sz/4,0.0); // first quarter\n",
    "    auto f1 = async(accum,v0+sz/4,v0+sz/2,0.0); // second quarter\n",
    "    auto f2 = async(accum,v0+sz/2,v0+sz∗3/4,0.0); // third quarter\n",
    "    auto f3 = async(accum,v0+sz∗3/4,v0+sz,0.0); // four th quar ter\n",
    "    return f0.get()+f1.g et()+f2.get()+f3.get(); // collect and combine the results\n",
    "}   "
   ]
  },
  {
   "cell_type": "code",
   "execution_count": null,
   "id": "d2fc38eb",
   "metadata": {},
   "outputs": [],
   "source": [
    "* `decltype()`: returns the declared type of its argument. "
   ]
  },
  {
   "cell_type": "code",
   "execution_count": null,
   "id": "621d184e",
   "metadata": {},
   "outputs": [],
   "source": [
    "void f(valarray<double>& a1, valarray<double>& a2) {\n",
    "    valarray<double> a = a1 * 3.14 + a2 / a1;\n",
    "    a2 += a1 * 3.14;\n",
    "    a = abs(a);\n",
    "    double d = a2[7];\n",
    "}"
   ]
  },
  {
   "cell_type": "code",
   "execution_count": 9,
   "id": "66840010",
   "metadata": {},
   "outputs": [],
   "source": [
    "#include <limits>"
   ]
  },
  {
   "cell_type": "code",
   "execution_count": 11,
   "id": "2c154297",
   "metadata": {},
   "outputs": [
    {
     "name": "stdout",
     "output_type": "stream",
     "text": [
      "2147483647"
     ]
    }
   ],
   "source": [
    "cout << numeric_limits<int>::max();"
   ]
  },
  {
   "cell_type": "markdown",
   "id": "25385723",
   "metadata": {},
   "source": [
    "# Part II: Basic Facilities"
   ]
  }
 ],
 "metadata": {
  "kernelspec": {
   "display_name": "C++11 [conda env:xeus]",
   "language": "C++11",
   "name": "conda-env-xeus-xcpp11"
  },
  "language_info": {
   "codemirror_mode": "text/x-c++src",
   "file_extension": ".cpp",
   "mimetype": "text/x-c++src",
   "name": "c++",
   "version": "11"
  }
 },
 "nbformat": 4,
 "nbformat_minor": 5
}
