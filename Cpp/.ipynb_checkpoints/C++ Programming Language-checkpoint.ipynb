{
 "cells": [
  {
   "cell_type": "markdown",
   "id": "d9aacb2d",
   "metadata": {},
   "source": [
    "# Chapter 2: The Basics"
   ]
  },
  {
   "cell_type": "code",
   "execution_count": 16,
   "id": "8acd3882",
   "metadata": {},
   "outputs": [
    {
     "name": "stdout",
     "output_type": "stream",
     "text": [
      "1 1 1.2\n"
     ]
    }
   ],
   "source": [
    "int i1 = 1;\n",
    "int i2{1};\n",
    "auto i3{1.2};\n",
    "\n",
    "cout << i1 << ' ' << i2 << ' ' << i3 << endl;"
   ]
  },
  {
   "cell_type": "code",
   "execution_count": 30,
   "id": "ae145e22",
   "metadata": {},
   "outputs": [],
   "source": [
    "double sum(const vector<double>&v) { \n",
    "    double s = 0;\n",
    "    for (double x : v) {\n",
    "        s += x;\n",
    "    }\n",
    "    return s;\n",
    "}"
   ]
  },
  {
   "cell_type": "code",
   "execution_count": 32,
   "id": "72411580",
   "metadata": {},
   "outputs": [],
   "source": [
    "constexpr double square(double x) { return x * x; }"
   ]
  },
  {
   "cell_type": "markdown",
   "id": "bcf97791",
   "metadata": {},
   "source": [
    " `const` : value can not be changed.\n",
    " \n",
    "\n",
    " `constexpr`: to be valued at compile time."
   ]
  },
  {
   "cell_type": "code",
   "execution_count": 35,
   "id": "78ed9739",
   "metadata": {},
   "outputs": [
    {
     "name": "stdout",
     "output_type": "stream",
     "text": [
      "9.1\n"
     ]
    }
   ],
   "source": [
    "const int a = 1;\n",
    "int b = 2;\n",
    "constexpr double c1 = 1.4 * a;\n",
    "// constexpr double c2 = 1.4 * b; // error\n",
    "\n",
    "vector<double> v {1.2, 3.4, 4.5};\n",
    "const double s1 = sum(v);\n",
    "cout << s1 << endl;\n",
    "\n",
    "// constexpr double s2 = sum(v); // error\n",
    "constexpr double s3 = square(a);\n"
   ]
  },
  {
   "cell_type": "markdown",
   "id": "095ae4e3",
   "metadata": {},
   "source": [
    "`*`: contents of.\n",
    "\n",
    "`&`: \n",
    "* in declaration: reference to.\n",
    "* otherwise: address of.\n",
    "\n",
    "`.`: access `struct` members through a name or reference.\n",
    "\n",
    "`->`: access `sturct` members through a pointer.\n"
   ]
  },
  {
   "cell_type": "code",
   "execution_count": null,
   "id": "0ce1d201",
   "metadata": {},
   "outputs": [],
   "source": []
  }
 ],
 "metadata": {
  "kernelspec": {
   "display_name": "C++11 [conda env:xeus]",
   "language": "C++11",
   "name": "conda-env-xeus-xcpp11"
  },
  "language_info": {
   "codemirror_mode": "text/x-c++src",
   "file_extension": ".cpp",
   "mimetype": "text/x-c++src",
   "name": "c++",
   "version": "11"
  }
 },
 "nbformat": 4,
 "nbformat_minor": 5
}
