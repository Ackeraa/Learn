{
 "cells": [
  {
   "cell_type": "markdown",
   "id": "6651cdd3",
   "metadata": {},
   "source": [
    "* `::f()`: global scope\n",
    "* Classes are namespaces"
   ]
  },
  {
   "cell_type": "code",
   "execution_count": null,
   "id": "5a8011c3",
   "metadata": {},
   "outputs": [],
   "source": [
    "// use namespace alias to shorten names:\n",
    "namespace ATT = American_Telephone_and_Telegraph;"
   ]
  },
  {
   "cell_type": "markdown",
   "id": "f7794222",
   "metadata": {},
   "source": [
    "# Chapter 15: Source Files and Programs"
   ]
  },
  {
   "cell_type": "code",
   "execution_count": null,
   "id": "225c0277",
   "metadata": {},
   "outputs": [],
   "source": [
    "static int x1 = 1; // internal linkage: not accessible from other translation units\n",
    "const char x2 = 'a'; // internal linkage: not accessible from other translation units\n",
    "\n",
    "int x1 = 1; // exter nal linkage: accessible from other translation units\n",
    "extern const char x2 = 'a'; // exter nal linkage: accessible from other translation units"
   ]
  }
 ],
 "metadata": {
  "kernelspec": {
   "display_name": "C++11 [conda env:xeus]",
   "language": "C++11",
   "name": "conda-env-xeus-xcpp11"
  },
  "language_info": {
   "codemirror_mode": "text/x-c++src",
   "file_extension": ".cpp",
   "mimetype": "text/x-c++src",
   "name": "c++",
   "version": "11"
  }
 },
 "nbformat": 4,
 "nbformat_minor": 5
}
