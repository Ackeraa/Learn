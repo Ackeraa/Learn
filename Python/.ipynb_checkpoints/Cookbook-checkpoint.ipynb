{
 "cells": [
  {
   "cell_type": "markdown",
   "metadata": {},
   "source": [
    "# CHAPTER 1 Data Structure and alorithms"
   ]
  },
  {
   "cell_type": "code",
   "execution_count": null,
   "metadata": {},
   "outputs": [],
   "source": [
    "import heapq\n",
    "import random\n",
    "\n",
    "nums = [10 - i  for i in range(10)]\n",
    "\n",
    "print(heapq.nlargest(3, nums))\n"
   ]
  },
  {
   "cell_type": "code",
   "execution_count": null,
   "metadata": {},
   "outputs": [],
   "source": [
    "heap = list(nums)\n",
    "heapq.heapify(heap)\n",
    "print(heap)\n",
    "heapq.heappop(heap)\n",
    "\n"
   ]
  },
  {
   "cell_type": "code",
   "execution_count": null,
   "metadata": {},
   "outputs": [],
   "source": [
    "class PriorityQueue:\n",
    "    def __init__(self):\n",
    "        self._queue = []\n",
    "        self._index = 0\n",
    "    \n",
    "    def push(self, item, priority):\n",
    "        heapq.heappush(self._queue, (-priority, self._index, item))\n",
    "\n",
    "    def pop(self):\n",
    "        return heapq.heappop(self._queue)[-1]"
   ]
  },
  {
   "cell_type": "code",
   "execution_count": null,
   "metadata": {},
   "outputs": [],
   "source": [
    "# defaultdict\n",
    "from collections import defaultdict\n",
    "\n",
    "d = defaultdict(list)\n",
    "\n",
    "pairs = [(i, i) for i in range(10)]\n",
    "\n",
    "for key, value in pairs:\n",
    "    d[key].append(value)\n",
    "d"
   ]
  },
  {
   "cell_type": "code",
   "execution_count": null,
   "metadata": {},
   "outputs": [],
   "source": [
    "# OrderedDict\n",
    "from collections import OrderedDict\n",
    "\n",
    "d = OrderedDict()\n",
    "d[3] = 1\n",
    "d[2] = 2\n",
    "d[1] = 3\n",
    "\n",
    "for key in d:\n",
    "    print(key, d[key])\n",
    "    "
   ]
  },
  {
   "cell_type": "code",
   "execution_count": null,
   "metadata": {},
   "outputs": [],
   "source": [
    "# calculating with dict\n",
    "d = {\"a\": 3, \"b\": 1, \"c\": 2} \n",
    "\n",
    "min_val = min(zip(d.values(), d.keys()))\n",
    "sorted_d = sorted(zip(d.values(), d.keys()))\n",
    "\n"
   ]
  },
  {
   "cell_type": "code",
   "execution_count": null,
   "metadata": {},
   "outputs": [],
   "source": [
    "# itemgetter\n",
    "from operator import itemgetter\n",
    "a = [{\"a\": 1, \"b\": 2}, {\"a\": 2, \"b\": 1}]\n",
    "sorted_d = sorted(a, key=itemgetter('b'))\n",
    "sorted_d"
   ]
  },
  {
   "cell_type": "code",
   "execution_count": null,
   "metadata": {},
   "outputs": [],
   "source": [
    "# commonlities of two dict\n",
    "\n",
    "a = {\"a\": 1, \"b\": 2, \"c\": 2}\n",
    "b = {\"a\": 3, \"b\": 2}\n",
    "a.keys() & b.keys()\n",
    "a.keys() - b.keys()\n",
    "a.items() & b.items()"
   ]
  },
  {
   "cell_type": "code",
   "execution_count": null,
   "metadata": {},
   "outputs": [],
   "source": [
    "# slice\n",
    "a = [0, 1, 2, 3, 4, 5]\n",
    "slic = slice(2, 3)\n",
    "a[slic]\n",
    "\n",
    "slic = slice(2, 100, 2)\n",
    "slic.start\n",
    "slic.stop\n",
    "slic.step\n"
   ]
  },
  {
   "cell_type": "code",
   "execution_count": null,
   "metadata": {},
   "outputs": [],
   "source": [
    "# Counter\n",
    "from collections import Counter\n",
    "\n",
    "a = [1, 2, 3, 1, 3, 3]\n",
    "n = Counter(a)\n",
    "top_2 = n.most_common(2)\n",
    "top_2\n",
    "\n",
    "n[1]\n",
    "\n",
    "b = [1, 3, 2]\n",
    "n.update(b)\n",
    "n\n"
   ]
  },
  {
   "cell_type": "code",
   "execution_count": null,
   "metadata": {},
   "outputs": [],
   "source": [
    "# attrgetter\n",
    "from operator import attrgetter\n",
    "\n",
    "class User:\n",
    "    def __init__(self, user_id):\n",
    "        self.user_id = user_id\n",
    "\n",
    "    def __repr__(self):\n",
    "        return 'User({})'.format(self.user_id)\n",
    "\n",
    "users = [User(1), User(3), User(2)]\n",
    "sorted(users, key=lambda x: x.user_id)\n",
    "sorted(users, key=attrgetter('user_id'))\n",
    "\n"
   ]
  },
  {
   "cell_type": "code",
   "execution_count": null,
   "metadata": {},
   "outputs": [],
   "source": [
    "# group by\n",
    "from operator import itemgetter\n",
    "from itertools import groupby\n",
    "\n",
    "rows = [\n",
    " {'address': '5412 N CLARK', 'date': '07/01/2012'},\n",
    " {'address': '5148 N CLARK', 'date': '07/04/2012'},\n",
    " {'address': '5800 E 58TH', 'date': '07/02/2012'},\n",
    " {'address': '2122 N CLARK', 'date': '07/03/2012'},\n",
    " {'address': '5645 N RAVENSWOOD', 'date': '07/02/2012'},\n",
    " {'address': '1060 W ADDISON', 'date': '07/02/2012'},\n",
    " {'address': '4801 N BROADWAY', 'date': '07/01/2012'},\n",
    " {'address': '1039 W GRANVILLE', 'date': '07/04/2012'},\n",
    "]\n",
    "\n",
    "rows.sort(key=itemgetter('date'))\n",
    "\n",
    "for date, items in groupby(rows, key=itemgetter('date')):\n",
    "    print(date)\n",
    "    for i in items:\n",
    "        print(' ', i)"
   ]
  },
  {
   "cell_type": "code",
   "execution_count": null,
   "metadata": {},
   "outputs": [],
   "source": [
    "# filter\n",
    "\n",
    "a = [2, 1, 3, 5, 3]\n",
    "\n",
    "pos = (x for x in a if x > 2)\n",
    "pos\n",
    "for x in pos:\n",
    "    print(x)\n",
    "    "
   ]
  },
  {
   "cell_type": "code",
   "execution_count": null,
   "metadata": {},
   "outputs": [],
   "source": [
    "def is_int(x):\n",
    "    try:\n",
    "        x = int(x)\n",
    "        return True\n",
    "    except ValueError:\n",
    "        return False\n",
    "\n",
    "a = [-1, 2, '-', 'asd']\n",
    "ia = list(filter(is_int, a))\n",
    "ia"
   ]
  },
  {
   "cell_type": "code",
   "execution_count": null,
   "metadata": {},
   "outputs": [],
   "source": [
    "a = [1, 2, 3, -1]\n",
    "\n",
    "[x if x > 0 else 0 for x in a]\n"
   ]
  },
  {
   "cell_type": "code",
   "execution_count": null,
   "metadata": {},
   "outputs": [],
   "source": [
    "# compress\n",
    "from itertools import compress\n",
    "\n",
    "addresses = [\n",
    " '5412 N CLARK',\n",
    " '5148 N CLARK',\n",
    " '5800 E 58TH',\n",
    " '2122 N CLARK'\n",
    " '5645 N RAVENSWOOD',\n",
    " '1060 W ADDISON',\n",
    " '4801 N BROADWAY',\n",
    " '1039 W GRANVILLE',\n",
    "]\n",
    "counts = [ 0, 3, 10, 4, 1, 7, 6, 1]\n",
    "more5 = [n > 5 for n in counts]\n",
    "\n",
    "list(compress(addresses, more5))\n"
   ]
  },
  {
   "cell_type": "code",
   "execution_count": null,
   "metadata": {},
   "outputs": [],
   "source": [
    "# namedtuple\n",
    "from collections import namedtuple\n",
    "\n",
    "Point = namedtuple('Point', ['x', 'y'])\n",
    "\n",
    "point = Point(10, 10)\n",
    "\n",
    "point.x\n",
    "point = point._replace(x=11)\n",
    "point.x"
   ]
  },
  {
   "cell_type": "code",
   "execution_count": null,
   "metadata": {},
   "outputs": [],
   "source": [
    "# chain map\n",
    "from collections import ChainMap\n",
    "\n",
    "a = {'x': 1}\n",
    "b = {'y': 2}\n",
    "c = ChainMap(a, b)"
   ]
  },
  {
   "cell_type": "markdown",
   "metadata": {},
   "source": [
    "# CHAPTER 2 String and Text"
   ]
  },
  {
   "cell_type": "code",
   "execution_count": null,
   "metadata": {},
   "outputs": [],
   "source": [
    "import re\n",
    "line = 'asdf fjdk; afed, fjek,asdf, foo'\n",
    "\n",
    "words = re.split(r'[;,\\s]\\s*', line)\n",
    "words = re.split(r'(;|,|\\s)\\s*', line)\n",
    "words = re.split(r'(?:;|,|\\s)\\s*', line)\n",
    "line.startswith('a')\n",
    "line.endswith('oo')\n"
   ]
  },
  {
   "cell_type": "code",
   "execution_count": null,
   "metadata": {},
   "outputs": [],
   "source": [
    "# fnmatch\n",
    "from fnmatch import fnmatch, fnmatchcase\n",
    "\n",
    "fnmatch('a.txt', 'a.*')\n",
    "fnmatchcase('a.txt', '*.TXT')"
   ]
  },
  {
   "cell_type": "code",
   "execution_count": null,
   "metadata": {},
   "outputs": [],
   "source": [
    "text = 'hello world'\n",
    "\n",
    "#text.ljust(20, '*')\n",
    "text.center(20, '*')\n",
    "\n",
    "format(text, '>20')\n",
    "'{:>10s}'.format('hello')\n",
    "\n",
    "print('a', 'b', 'c', sep=',')"
   ]
  },
  {
   "cell_type": "code",
   "execution_count": null,
   "metadata": {},
   "outputs": [],
   "source": [
    "# string with variables\n",
    "\n",
    "name = 'acker'\n",
    "age = '23'\n",
    "\n",
    "'name is {}, age is {}'.format(name, age)\n",
    "\n",
    "f'name is {name}, age is {age}'\n",
    "\n",
    "'name is %s, age is %d' % (name, age)"
   ]
  },
  {
   "cell_type": "markdown",
   "metadata": {},
   "source": [
    "# CHAPTER 3 Numbers, Dates, and Times"
   ]
  },
  {
   "cell_type": "code",
   "execution_count": null,
   "metadata": {},
   "outputs": [],
   "source": [
    "round(127362, -2)"
   ]
  },
  {
   "cell_type": "code",
   "execution_count": null,
   "metadata": {},
   "outputs": [],
   "source": [
    "# Decimal\n",
    "\n",
    "from decimal import Decimal, localcontext\n",
    "\n",
    "a = Decimal('1.2')\n",
    "b = Decimal('2.3')\n",
    "a + b\n",
    "\n",
    "with localcontext() as ctx:\n",
    "    ctx.prec = 3\n",
    "    print(a / b)"
   ]
  },
  {
   "cell_type": "code",
   "execution_count": null,
   "metadata": {},
   "outputs": [],
   "source": [
    "# fsum\n",
    "import math\n",
    "\n",
    "nums = [1.23e+18, 1, -1.23e+18]\n",
    "sum(nums)\n",
    "math.fsum(nums)\n"
   ]
  },
  {
   "cell_type": "code",
   "execution_count": null,
   "metadata": {},
   "outputs": [],
   "source": [
    "# binary, octal, hex,\n",
    "\n",
    "x = 123\n",
    "bin(x)\n",
    "format(x, 'x')\n",
    "int('1010101', 2)\n",
    "int('4d', 16)"
   ]
  },
  {
   "cell_type": "code",
   "execution_count": null,
   "metadata": {},
   "outputs": [],
   "source": [
    "# bytes\n",
    "data = b'\\x00\\x124V\\x00x\\x90\\xab\\x00\\xcd\\xef\\x01\\x00#\\x004'\n",
    "int.from_bytes(data, 'little')\n",
    "x = int.from_bytes(data, 'big')\n",
    "x = 12345\n"
   ]
  },
  {
   "cell_type": "code",
   "execution_count": null,
   "metadata": {},
   "outputs": [],
   "source": [
    "# fractions\n",
    "from fractions import Fraction\n",
    "\n",
    "a = Fraction(5, 4)\n",
    "b = Fraction(7, 16)\n",
    "c = a + b\n",
    "c.numerator\n",
    "c.denominator\n",
    "float(c)\n",
    "\n",
    "x = 3.75\n",
    "y = Fraction(*x.as_integer_ratio())\n",
    "y\n"
   ]
  },
  {
   "cell_type": "code",
   "execution_count": null,
   "metadata": {},
   "outputs": [],
   "source": [
    "# matrix\n",
    "import numpy as np\n",
    "m = np.matrix([[1, 2, 3], [3, 4, 5]])\n",
    "m.I"
   ]
  },
  {
   "cell_type": "markdown",
   "metadata": {},
   "source": [
    "# CHAPTER 4 Iterators and Generators"
   ]
  },
  {
   "cell_type": "code",
   "execution_count": null,
   "metadata": {},
   "outputs": [],
   "source": [
    "# iter & next \n",
    "items = [1, 2, 3]\n",
    "it = iter(items)\n",
    "next(it)\n",
    "next(it)\n",
    "next(it)\n"
   ]
  },
  {
   "cell_type": "code",
   "execution_count": null,
   "metadata": {},
   "outputs": [],
   "source": [
    "class Node:\n",
    "    def __init__(self, value):\n",
    "        self._value = value\n",
    "        self._children = []\n",
    "\n",
    "    def __repr__(self):\n",
    "        return 'Node({!r})'.format(self._value)\n",
    "    \n",
    "    def add_child(self, node):\n",
    "        self._children.append(node)\n",
    "    \n",
    "    def __iter__(self):\n",
    "        return iter(self._children)\n",
    "\n",
    "    def depth_first(self):\n",
    "        yield self\n",
    "        for c in self:\n",
    "            yield from c.depth_first()\n"
   ]
  },
  {
   "cell_type": "code",
   "execution_count": null,
   "metadata": {},
   "outputs": [],
   "source": [
    "def frange(start, stop, increment):\n",
    "    x = start\n",
    "    while x < stop:\n",
    "        yield x\n",
    "        x += increment\n",
    "\n",
    "for i in frange(0, 4, 0.5):\n",
    "    print(i)"
   ]
  },
  {
   "cell_type": "code",
   "execution_count": null,
   "metadata": {},
   "outputs": [],
   "source": [
    "from itertools import islice, dropwhile\n",
    "\n",
    "def count(n):\n",
    "    while True:\n",
    "        yield n\n",
    "        n += 1\n",
    "\n",
    "c = count(0)\n",
    "\n",
    "for x in islice(c, 10, 20):\n",
    "    print(x)\n",
    "\n",
    "a = [1, 2, 3, 4, 5]\n",
    "for x in dropwhile(lambda x: x < 3, a):\n",
    "    print(x)\n"
   ]
  },
  {
   "cell_type": "code",
   "execution_count": null,
   "metadata": {},
   "outputs": [],
   "source": [
    "# permutations\n",
    "from itertools import permutations\n",
    "\n",
    "a = [1, 2, 3]\n",
    "\n",
    "for p in permutations(a):\n",
    "    print(p)"
   ]
  },
  {
   "cell_type": "code",
   "execution_count": null,
   "metadata": {},
   "outputs": [],
   "source": [
    "# zip\n",
    "from itertools import zip_longest\n",
    "\n",
    "a = [1, 2, 3]\n",
    "b = ['a', 'b']\n",
    "\n",
    "for i in zip_longest(a, b, fillvalue=0):\n",
    "    print(i)\n",
    "b += ['c']\n",
    "\n",
    "s = dict(zip(a, b))\n"
   ]
  },
  {
   "cell_type": "code",
   "execution_count": null,
   "metadata": {},
   "outputs": [],
   "source": [
    "# chains\n",
    "from itertools import chain\n",
    "\n",
    "a = [1, 2, 3, 4]\n",
    "b = ['x', 'y', 'z']\n",
    "\n",
    "for x in chain(a, b):\n",
    "    print(x)"
   ]
  },
  {
   "cell_type": "code",
   "execution_count": null,
   "metadata": {},
   "outputs": [],
   "source": [
    "# flatten\n",
    "\n",
    "from collections import Iterable\n",
    "\n",
    "def flatten(items, ignore_types=(str, bytes)):\n",
    "    for x in items:\n",
    "        if isinstance(x, Iterable) and not isinstance(x, ignore_types):\n",
    "            yield from flatten(x)\n",
    "        else:\n",
    "            yield x\n",
    "\n",
    "items = [1, 2, [3, 4, [5, 6]], 7]\n",
    "\n",
    "for x in flatten(items):\n",
    "    print(x)\n"
   ]
  },
  {
   "cell_type": "markdown",
   "metadata": {},
   "source": [
    "# CHAPTER 7 Functions"
   ]
  },
  {
   "cell_type": "code",
   "execution_count": null,
   "metadata": {},
   "outputs": [],
   "source": [
    "# * arguments\n",
    "def avg(first, *rest):\n",
    "    return (first + sum(rest)) / (1 + len(rest))\n",
    "\n",
    "def anyargs(*args, **kwargs):\n",
    "    print(args)\n",
    "    print(kwargs)\n",
    "\n",
    "anyargs(1, 2, 3, x=1, y=2)"
   ]
  },
  {
   "cell_type": "code",
   "execution_count": null,
   "metadata": {},
   "outputs": [],
   "source": [
    "# annotations\n",
    "def add(x:int, y:int) -> int:\n",
    "    return x + y\n",
    "\n",
    "add.__annotations__"
   ]
  },
  {
   "cell_type": "code",
   "execution_count": null,
   "metadata": {},
   "outputs": [],
   "source": [
    "# check if value is given\n",
    "\n",
    "_no_value = object()\n",
    "\n",
    "def spam(a, b=_no_value):\n",
    "    if b is _no_value:\n",
    "        print(\"No b value is supplied\")\n",
    "spam(1)"
   ]
  },
  {
   "cell_type": "code",
   "execution_count": null,
   "metadata": {},
   "outputs": [],
   "source": [
    "# inline function\n",
    "add = lambda x, y: x + y\n",
    "add(2, 3)"
   ]
  },
  {
   "cell_type": "code",
   "execution_count": null,
   "metadata": {},
   "outputs": [],
   "source": [
    "x = 10\n",
    "add = lambda y: x + y\n",
    "x = 20\n",
    "add(10)"
   ]
  },
  {
   "cell_type": "code",
   "execution_count": null,
   "metadata": {},
   "outputs": [],
   "source": [
    "funcs = [lambda x, n=n: x + n for n in range(5)]\n",
    "for f in funcs:\n",
    "    print(f(0))"
   ]
  },
  {
   "cell_type": "code",
   "execution_count": null,
   "metadata": {},
   "outputs": [],
   "source": [
    "# async \n",
    "def apply_async(func, args, *, callback):\n",
    "    result = func(*args)\n",
    "    callback(result)\n",
    "\n",
    "def add(a, b):\n",
    "    return a + b\n",
    "\n",
    "def make_handler():\n",
    "    sequence = 0\n",
    "    def handler(result):\n",
    "        nonlocal sequence\n",
    "        sequence += 1\n",
    "        print('[{}] Got: {}'.format(sequence, result))\n",
    "    return handler\n",
    "\n",
    "def make_handler():\n",
    "    sequence = 0\n",
    "    while True:\n",
    "        result = yield\n",
    "        sequence += 1\n",
    "        print('[{}] Got: {}'.format(sequence, result))\n",
    "    \n",
    "handler = make_handler()\n",
    "next(handler)\n",
    "\n",
    "apply_async(add, (2, 3), callback=handler.send)"
   ]
  },
  {
   "cell_type": "code",
   "execution_count": null,
   "metadata": {},
   "outputs": [],
   "source": [
    "# variables inside a closure\n",
    "\n",
    "def sample():\n",
    "    n = 0\n",
    "    \n",
    "    def func():\n",
    "        print('n=', n)\n",
    "    \n",
    "    def get_n():\n",
    "        return n\n",
    "    \n",
    "    def set_n(value):\n",
    "        nonlocal n\n",
    "        n = value\n",
    "    func.set_n = set_n\n",
    "    func.get_n = get_n\n",
    "\n",
    "    return func\n",
    "\n",
    "f = sample()\n",
    "f()\n",
    "f.set_n(10)\n",
    "f()"
   ]
  },
  {
   "cell_type": "code",
   "execution_count": null,
   "metadata": {},
   "outputs": [],
   "source": [
    "# 'with' statement\n",
    "\n",
    "from socket import socket, AF_INET, SOCK_STREAM\n",
    "\n",
    "class LazyConnection:\n",
    "    def __init__(self, address, family=AF_INET, type=SOCK_STREAM):\n",
    "        self.address = address\n",
    "        self.family = AF_INET\n",
    "        self.type = SOCK_STREAM\n",
    "        self.sock = None\n",
    "\n",
    "    def __enter__(self):\n",
    "        if self.sock is not None:\n",
    "            raise RuntimeError('Already connected')\n",
    "        self.sock = socket(self.family, self.type)\n",
    "        self.sock.connect(self.address)\n",
    "        return self.sock\n",
    "\n",
    "    def __exit__(self, exc_ty, exc_val, tb):\n",
    "        self.sock.close()\n",
    "        self.sock = None\n"
   ]
  },
  {
   "cell_type": "code",
   "execution_count": null,
   "metadata": {},
   "outputs": [],
   "source": [
    "from functools import partial\n",
    "\n",
    "conn = LazyConnection(('www.python.ort', 80))\n",
    "\n",
    "with conn as s:\n",
    "    s.send(b'GET /index.html HTTP/1.0\\r\\b')\n",
    "    s.send(b'Host: www.python.org\\r\\n')\n",
    "    s.send(b'\\r\\n')\n",
    "    resp = b''.join(iter(partial(s.recv, 8192), b''))\n",
    "    "
   ]
  },
  {
   "cell_type": "code",
   "execution_count": 11,
   "metadata": {},
   "outputs": [],
   "source": [
    "# __slots__, could reduce memory usage.\n",
    "\n",
    "class Date:\n",
    "    __slots__ = ['year', 'month', 'day']\n",
    "    def __init__(self, year, month, day):\n",
    "        self.year = year\n",
    "        self.month = month\n",
    "        self.day = day"
   ]
  },
  {
   "cell_type": "code",
   "execution_count": 15,
   "metadata": {},
   "outputs": [
    {
     "data": {
      "text/plain": [
       "<function __main__.A._private_method(self)>"
      ]
     },
     "execution_count": 15,
     "metadata": {},
     "output_type": "execute_result"
    }
   ],
   "source": [
    "# _ private\n",
    "class A:\n",
    "    def __init__(self):\n",
    "        self._internal = 0\n",
    "        self.public = 1\n",
    "\n",
    "    def public_method(self):\n",
    "        pass\n",
    "\n",
    "    def _private_method(self):\n",
    "        pass\n",
    "\n",
    "a = A\n",
    "a._internal = 1\n",
    "a.public_method\n",
    "a._private_method"
   ]
  },
  {
   "cell_type": "code",
   "execution_count": 16,
   "metadata": {},
   "outputs": [],
   "source": [
    "# __ can not be inherit\n",
    "\n",
    "class B:\n",
    "    def __init__(self):\n",
    "        self.__private = 0\n",
    "\n",
    "    def __private_method(self):\n",
    "        pass\n"
   ]
  },
  {
   "cell_type": "code",
   "execution_count": 17,
   "metadata": {},
   "outputs": [],
   "source": [
    "class C(B):\n",
    "    def __init__(self):\n",
    "        super().__init__()\n",
    "        self.__private = 1  # Does not override B.__private\n",
    "\n",
    "    def __private_method(self):\n",
    "        pass"
   ]
  },
  {
   "cell_type": "code",
   "execution_count": 18,
   "metadata": {},
   "outputs": [
    {
     "data": {
      "text/plain": [
       "'fuc'"
      ]
     },
     "execution_count": 18,
     "metadata": {},
     "output_type": "execute_result"
    }
   ],
   "source": [
    "# getter and setter\n",
    "\n",
    "class Person:\n",
    "    def __init__(self, first_name):\n",
    "        self.first_name = first_name\n",
    "\n",
    "    @property\n",
    "    def first_name(self):\n",
    "        return self._first_name\n",
    "\n",
    "    @first_name.setter\n",
    "    def first_name(self, value):\n",
    "        if not isinstance(value, str):\n",
    "            raise TypeError('Expect a string')\n",
    "        self._first_name = value\n",
    "\n",
    "    @first_name.deleter\n",
    "    def first_name(self):\n",
    "        raise AttributeError(\"Can't delete attribute\")\n",
    "\n",
    "a = Person('fuc')\n",
    "a.first_name"
   ]
  },
  {
   "cell_type": "code",
   "execution_count": 20,
   "metadata": {},
   "outputs": [],
   "source": [
    "# call parent method\n",
    "\n",
    "class A:\n",
    "    def spam(self):\n",
    "        print('A.spam')\n",
    "\n",
    "class B(A):\n",
    "    def spam(self):\n",
    "        print(\"B.spam\")\n",
    "        super().spam()\n",
    "        "
   ]
  },
  {
   "cell_type": "code",
   "execution_count": null,
   "metadata": {},
   "outputs": [],
   "source": [
    "class Integer:\n",
    "    def __init__(self, name):\n",
    "        self.name = name\n",
    "        \n",
    "    def __get__(self, instance, cls):\n",
    "        if instance is None:\n",
    "            return self\n",
    "        else:\n",
    "            return instance.__dict__[self.name]\n",
    "    \n",
    "    def __set__(self, instance, value):\n",
    "        if not isinstance(value, int):\n",
    "            raise TypeError('Expecetd an int')\n",
    "        instance.__dict__[self.name] = value\n",
    "        \n",
    "    def __delete__(self, instance):\n",
    "        del instance.__dict__[self.name]\n",
    "\n",
    "class Point:\n",
    "    x = Integer('x')\n",
    "    y = Integer('y')\n",
    "    def __init__(self, x, y):\n",
    "        self.x = x\n",
    "        self.y = y\n",
    "    "
   ]
  },
  {
   "cell_type": "code",
   "execution_count": null,
   "metadata": {},
   "outputs": [],
   "source": [
    "# Lazy property\n",
    "class lazyproperty:\n",
    "    def __init__(self, func):\n",
    "        self.func = func\n",
    "        \n",
    "    def __get__(self, instance, cls):\n",
    "        if instance is None:\n",
    "            return self\n",
    "        else:\n",
    "            value = self.func(instance)\n",
    "            setattr(instance, self.func.__name__, value)\n",
    "            return value\n",
    "\n",
    "import math\n",
    "\n",
    "class Circle:\n",
    "    def __init__(self, r):\n",
    "        self.r = r\n",
    "        \n",
    "    @lazyproperty\n",
    "    def area(self):\n",
    "        print(\"computing area\")\n",
    "        return math.pi * self.r ** 2\n"
   ]
  }
 ],
 "metadata": {
  "interpreter": {
   "hash": "7e6eb12c3bb2e5157c101fdc4865c9048c675d3737699e04fff80625c5b7a38f"
  },
  "kernelspec": {
   "display_name": "Python 3 (ipykernel)",
   "language": "python",
   "name": "python3"
  },
  "language_info": {
   "codemirror_mode": {
    "name": "ipython",
    "version": 3
   },
   "file_extension": ".py",
   "mimetype": "text/x-python",
   "name": "python",
   "nbconvert_exporter": "python",
   "pygments_lexer": "ipython3",
   "version": "3.10.6"
  }
 },
 "nbformat": 4,
 "nbformat_minor": 2
}
