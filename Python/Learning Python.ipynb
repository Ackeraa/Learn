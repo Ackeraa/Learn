{
 "cells": [
  {
   "cell_type": "markdown",
   "id": "68675e74",
   "metadata": {},
   "source": [
    "# Part I: Getting Started"
   ]
  },
  {
   "cell_type": "markdown",
   "id": "c0bfd9b7",
   "metadata": {},
   "source": [
    "* `cpython`: The standard\n",
    "* `jython`: Python for java\n",
    "* `IronPython`: Python for .NET\n",
    "* `Stackless`: Python for concurrency\n",
    "* `PyPy`: Python for speed"
   ]
  },
  {
   "cell_type": "markdown",
   "id": "90c3903b",
   "metadata": {},
   "source": [
    "# Part 2: Types and Operations"
   ]
  },
  {
   "cell_type": "markdown",
   "id": "00052fb7",
   "metadata": {},
   "source": [
    "* `string` is immutable "
   ]
  },
  {
   "cell_type": "code",
   "execution_count": 9,
   "id": "3761176a",
   "metadata": {},
   "outputs": [
    {
     "data": {
      "text/plain": [
       "'male'"
      ]
     },
     "execution_count": 9,
     "metadata": {},
     "output_type": "execute_result"
    }
   ],
   "source": [
    "amy = dict(name='amy', job='dev', age=40)\n",
    "bob = dict(zip(['name', 'job', 'age'], ['Bob', 'dev', 40]))\n",
    "\n",
    "# return default value if missing\n",
    "bob.get('sex', 'male')"
   ]
  },
  {
   "cell_type": "code",
   "execution_count": 6,
   "id": "1e158b8a",
   "metadata": {},
   "outputs": [
    {
     "data": {
      "text/plain": [
       "[(1, 4), (2, 5), (3, 6)]"
      ]
     },
     "execution_count": 6,
     "metadata": {},
     "output_type": "execute_result"
    }
   ],
   "source": [
    "list(zip([1, 2, 3], [4, 5, 6]))"
   ]
  },
  {
   "cell_type": "code",
   "execution_count": 10,
   "id": "ddadd17c",
   "metadata": {},
   "outputs": [
    {
     "data": {
      "text/plain": [
       "Decimal('0.1429')"
      ]
     },
     "execution_count": 10,
     "metadata": {},
     "output_type": "execute_result"
    }
   ],
   "source": [
    "import decimal\n",
    "\n",
    "decimal.getcontext().prec = 4\n",
    "decimal.Decimal(1) / decimal.Decimal(7)"
   ]
  },
  {
   "cell_type": "code",
   "execution_count": 14,
   "id": "f7a4a816",
   "metadata": {},
   "outputs": [
    {
     "name": "stdout",
     "output_type": "stream",
     "text": [
      "1\n"
     ]
    },
    {
     "data": {
      "text/plain": [
       "Fraction(7, 20)"
      ]
     },
     "execution_count": 14,
     "metadata": {},
     "output_type": "execute_result"
    }
   ],
   "source": [
    "from fractions import Fraction\n",
    "x = Fraction(1, 3)\n",
    "y = Fraction(4, 6)\n",
    "print(x + y)\n",
    "Fraction('0.35')"
   ]
  },
  {
   "cell_type": "code",
   "execution_count": 18,
   "id": "554c83b1",
   "metadata": {},
   "outputs": [
    {
     "data": {
      "text/plain": [
       "Fraction(7, 4)"
      ]
     },
     "execution_count": 18,
     "metadata": {},
     "output_type": "execute_result"
    }
   ],
   "source": [
    "(2.5).as_integer_ratio()\n",
    "f = 2.5\n",
    "Fraction(*f.as_integer_ratio())\n",
    "Fraction.from_float(1.75)"
   ]
  },
  {
   "cell_type": "code",
   "execution_count": 19,
   "id": "004bab75",
   "metadata": {},
   "outputs": [
    {
     "data": {
      "text/plain": [
       "1"
      ]
     },
     "execution_count": 19,
     "metadata": {},
     "output_type": "execute_result"
    }
   ],
   "source": [
    "def f(x):\n",
    "    x = x + 1\n",
    "x = 1\n",
    "f(x)\n",
    "x"
   ]
  },
  {
   "cell_type": "code",
   "execution_count": 21,
   "id": "6be0a9dc",
   "metadata": {},
   "outputs": [],
   "source": [
    "import copy\n",
    "l1 = [2, 3, 4]\n",
    "# make a copy of l1\n",
    "l2 = l1[:] \n",
    "l2 = list(l1)\n",
    "l2 = copy.copy(l1)"
   ]
  },
  {
   "cell_type": "code",
   "execution_count": null,
   "id": "8872e9e5",
   "metadata": {},
   "outputs": [],
   "source": [
    "L = [1, 2, 3]\n",
    "M = L\n",
    "M == L # same value\n",
    "M is L # same objects"
   ]
  },
  {
   "cell_type": "code",
   "execution_count": 22,
   "id": "8d22a13b",
   "metadata": {},
   "outputs": [
    {
     "data": {
      "text/plain": [
       "True"
      ]
     },
     "execution_count": 22,
     "metadata": {},
     "output_type": "execute_result"
    }
   ],
   "source": [
    "x = 4\n",
    "y = 4\n",
    "x == y\n",
    "x is y # caching at work"
   ]
  },
  {
   "cell_type": "markdown",
   "id": "b19e2605",
   "metadata": {},
   "source": [
    "Three string types:\n",
    "* `str`\n",
    "* `bytes`\n",
    "* `bytearray`"
   ]
  },
  {
   "cell_type": "code",
   "execution_count": null,
   "id": "9cebb9cd",
   "metadata": {},
   "outputs": [],
   "source": []
  }
 ],
 "metadata": {
  "kernelspec": {
   "display_name": "Python 3 (ipykernel)",
   "language": "python",
   "name": "python3"
  },
  "language_info": {
   "codemirror_mode": {
    "name": "ipython",
    "version": 3
   },
   "file_extension": ".py",
   "mimetype": "text/x-python",
   "name": "python",
   "nbconvert_exporter": "python",
   "pygments_lexer": "ipython3",
   "version": "3.10.6"
  }
 },
 "nbformat": 4,
 "nbformat_minor": 5
}
