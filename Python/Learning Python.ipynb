{
 "cells": [
  {
   "cell_type": "markdown",
   "id": "ba81d285",
   "metadata": {},
   "source": [
    "# Part I"
   ]
  },
  {
   "cell_type": "markdown",
   "id": "a0bdea0c",
   "metadata": {},
   "source": [
    "* `cpython`: The standard\n",
    "* `jython`: Python for java\n",
    "* `IronPython`: Python for .NET\n",
    "* `Stackless`: Python for concurrency\n",
    "* `PyPy`: Python for speed"
   ]
  },
  {
   "cell_type": "code",
   "execution_count": null,
   "id": "b7b8dd7d",
   "metadata": {},
   "outputs": [],
   "source": []
  }
 ],
 "metadata": {
  "kernelspec": {
   "display_name": "Python 3 (ipykernel)",
   "language": "python",
   "name": "python3"
  },
  "language_info": {
   "codemirror_mode": {
    "name": "ipython",
    "version": 3
   },
   "file_extension": ".py",
   "mimetype": "text/x-python",
   "name": "python",
   "nbconvert_exporter": "python",
   "pygments_lexer": "ipython3",
   "version": "3.10.6"
  }
 },
 "nbformat": 4,
 "nbformat_minor": 5
}
