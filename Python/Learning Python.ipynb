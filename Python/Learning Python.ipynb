{
 "cells": [
  {
   "cell_type": "markdown",
   "id": "d342c154",
   "metadata": {},
   "source": [
    "# Part I: Getting Started"
   ]
  },
  {
   "cell_type": "markdown",
   "id": "7fe7f43e",
   "metadata": {},
   "source": [
    "* `cpython`: The standard\n",
    "* `jython`: Python for java\n",
    "* `IronPython`: Python for .NET\n",
    "* `Stackless`: Python for concurrency\n",
    "* `PyPy`: Python for speed"
   ]
  },
  {
   "cell_type": "markdown",
   "id": "10f8ce00",
   "metadata": {},
   "source": [
    "# Part 2: Types and Operations"
   ]
  },
  {
   "cell_type": "markdown",
   "id": "69eae98d",
   "metadata": {},
   "source": [
    "* `string` is immutable "
   ]
  },
  {
   "cell_type": "code",
   "execution_count": 9,
   "id": "e76ac117",
   "metadata": {},
   "outputs": [
    {
     "data": {
      "text/plain": [
       "'male'"
      ]
     },
     "execution_count": 9,
     "metadata": {},
     "output_type": "execute_result"
    }
   ],
   "source": [
    "amy = dict(name='amy', job='dev', age=40)\n",
    "bob = dict(zip(['name', 'job', 'age'], ['Bob', 'dev', 40]))\n",
    "\n",
    "# return default value if missing\n",
    "bob.get('sex', 'male')"
   ]
  },
  {
   "cell_type": "code",
   "execution_count": 6,
   "id": "f5b65d32",
   "metadata": {},
   "outputs": [
    {
     "data": {
      "text/plain": [
       "[(1, 4), (2, 5), (3, 6)]"
      ]
     },
     "execution_count": 6,
     "metadata": {},
     "output_type": "execute_result"
    }
   ],
   "source": [
    "list(zip([1, 2, 3], [4, 5, 6]))"
   ]
  },
  {
   "cell_type": "code",
   "execution_count": 10,
   "id": "8c55d98f",
   "metadata": {},
   "outputs": [
    {
     "data": {
      "text/plain": [
       "Decimal('0.1429')"
      ]
     },
     "execution_count": 10,
     "metadata": {},
     "output_type": "execute_result"
    }
   ],
   "source": [
    "import decimal\n",
    "\n",
    "decimal.getcontext().prec = 4\n",
    "decimal.Decimal(1) / decimal.Decimal(7)"
   ]
  },
  {
   "cell_type": "code",
   "execution_count": 14,
   "id": "a6baf7a2",
   "metadata": {},
   "outputs": [
    {
     "name": "stdout",
     "output_type": "stream",
     "text": [
      "1\n"
     ]
    },
    {
     "data": {
      "text/plain": [
       "Fraction(7, 20)"
      ]
     },
     "execution_count": 14,
     "metadata": {},
     "output_type": "execute_result"
    }
   ],
   "source": [
    "from fractions import Fraction\n",
    "x = Fraction(1, 3)\n",
    "y = Fraction(4, 6)\n",
    "print(x + y)\n",
    "Fraction('0.35')"
   ]
  },
  {
   "cell_type": "code",
   "execution_count": 18,
   "id": "f8087b24",
   "metadata": {},
   "outputs": [
    {
     "data": {
      "text/plain": [
       "Fraction(7, 4)"
      ]
     },
     "execution_count": 18,
     "metadata": {},
     "output_type": "execute_result"
    }
   ],
   "source": [
    "(2.5).as_integer_ratio()\n",
    "f = 2.5\n",
    "Fraction(*f.as_integer_ratio())\n",
    "Fraction.from_float(1.75)"
   ]
  },
  {
   "cell_type": "code",
   "execution_count": 19,
   "id": "b4f46bbd",
   "metadata": {},
   "outputs": [
    {
     "data": {
      "text/plain": [
       "1"
      ]
     },
     "execution_count": 19,
     "metadata": {},
     "output_type": "execute_result"
    }
   ],
   "source": [
    "def f(x):\n",
    "    x = x + 1\n",
    "x = 1\n",
    "f(x)\n",
    "x"
   ]
  },
  {
   "cell_type": "code",
   "execution_count": 21,
   "id": "e2c3c252",
   "metadata": {},
   "outputs": [],
   "source": [
    "import copy\n",
    "l1 = [2, 3, 4]\n",
    "# make a copy of l1\n",
    "l2 = l1[:] \n",
    "l2 = list(l1)\n",
    "l2 = copy.copy(l1)"
   ]
  },
  {
   "cell_type": "code",
   "execution_count": null,
   "id": "67d74790",
   "metadata": {},
   "outputs": [],
   "source": [
    "L = [1, 2, 3]\n",
    "M = L\n",
    "M == L # same value\n",
    "M is L # same objects"
   ]
  },
  {
   "cell_type": "code",
   "execution_count": 22,
   "id": "28cd8c34",
   "metadata": {},
   "outputs": [
    {
     "data": {
      "text/plain": [
       "True"
      ]
     },
     "execution_count": 22,
     "metadata": {},
     "output_type": "execute_result"
    }
   ],
   "source": [
    "x = 4\n",
    "y = 4\n",
    "x == y\n",
    "x is y # caching at work"
   ]
  },
  {
   "cell_type": "markdown",
   "id": "1f6767eb",
   "metadata": {},
   "source": [
    "Three string types:\n",
    "* `str`\n",
    "* `bytes`\n",
    "* `bytearray`"
   ]
  }
 ],
 "metadata": {
  "kernelspec": {
   "display_name": "Python 3 (ipykernel)",
   "language": "python",
   "name": "python3"
  },
  "language_info": {
   "codemirror_mode": {
    "name": "ipython",
    "version": 3
   },
   "file_extension": ".py",
   "mimetype": "text/x-python",
   "name": "python",
   "nbconvert_exporter": "python",
   "pygments_lexer": "ipython3",
   "version": "3.10.6"
  }
 },
 "nbformat": 4,
 "nbformat_minor": 5
}
