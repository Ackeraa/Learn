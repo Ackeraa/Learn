{
 "cells": [
  {
   "cell_type": "markdown",
   "id": "a6ae513d",
   "metadata": {},
   "source": [
    "# Part I: Getting Started"
   ]
  },
  {
   "cell_type": "markdown",
   "id": "17b6ef37",
   "metadata": {},
   "source": [
    "* `cpython`: The standard\n",
    "* `jython`: Python for java\n",
    "* `IronPython`: Python for .NET\n",
    "* `Stackless`: Python for concurrency\n",
    "* `PyPy`: Python for speed"
   ]
  },
  {
   "cell_type": "markdown",
   "id": "54e7f0c5",
   "metadata": {},
   "source": [
    "# Part 2: Types and Operations"
   ]
  },
  {
   "cell_type": "markdown",
   "id": "4cbe45cc",
   "metadata": {},
   "source": [
    "* `string` is immutable "
   ]
  },
  {
   "cell_type": "code",
   "execution_count": 9,
   "id": "ba175456",
   "metadata": {},
   "outputs": [
    {
     "data": {
      "text/plain": [
       "'male'"
      ]
     },
     "execution_count": 9,
     "metadata": {},
     "output_type": "execute_result"
    }
   ],
   "source": [
    "amy = dict(name='amy', job='dev', age=40)\n",
    "bob = dict(zip(['name', 'job', 'age'], ['Bob', 'dev', 40]))\n",
    "\n",
    "# return default value if missing\n",
    "bob.get('sex', 'male')"
   ]
  },
  {
   "cell_type": "code",
   "execution_count": 6,
   "id": "d6a0f2ca",
   "metadata": {},
   "outputs": [
    {
     "data": {
      "text/plain": [
       "[(1, 4), (2, 5), (3, 6)]"
      ]
     },
     "execution_count": 6,
     "metadata": {},
     "output_type": "execute_result"
    }
   ],
   "source": [
    "list(zip([1, 2, 3], [4, 5, 6]))"
   ]
  },
  {
   "cell_type": "code",
   "execution_count": null,
   "id": "0eb635a8",
   "metadata": {},
   "outputs": [],
   "source": []
  }
 ],
 "metadata": {
  "kernelspec": {
   "display_name": "Python 3 (ipykernel)",
   "language": "python",
   "name": "python3"
  },
  "language_info": {
   "codemirror_mode": {
    "name": "ipython",
    "version": 3
   },
   "file_extension": ".py",
   "mimetype": "text/x-python",
   "name": "python",
   "nbconvert_exporter": "python",
   "pygments_lexer": "ipython3",
   "version": "3.10.6"
  }
 },
 "nbformat": 4,
 "nbformat_minor": 5
}
